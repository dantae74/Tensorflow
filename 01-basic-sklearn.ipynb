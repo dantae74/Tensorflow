{
  "nbformat": 4,
  "nbformat_minor": 5,
  "metadata": {
    "colab": {
      "name": "01-basic-sklearn.ipynb",
      "provenance": [],
      "include_colab_link": true
    },
    "language_info": {
      "name": "python"
    },
    "kernelspec": {
      "name": "python3",
      "display_name": "Python 3"
    }
  },
  "cells": [
    {
      "cell_type": "markdown",
      "metadata": {
        "id": "view-in-github",
        "colab_type": "text"
      },
      "source": [
        "<a href=\"https://colab.research.google.com/github/dantae74/tensorflow/blob/main/01-basic-sklearn.ipynb\" target=\"_parent\"><img src=\"https://colab.research.google.com/assets/colab-badge.svg\" alt=\"Open In Colab\"/></a>"
      ]
    },
    {
      "cell_type": "markdown",
      "metadata": {
        "id": "WfgQSbgOoe-2"
      },
      "source": [
        "## Tensorflow 2.0"
      ],
      "id": "WfgQSbgOoe-2"
    },
    {
      "cell_type": "code",
      "metadata": {
        "id": "RK3QTbWDofS7"
      },
      "source": [
        "import os\n",
        "import tarfile\n",
        "import urllib.request\n",
        "import pandas as pd\n",
        "import matplotlib.pyplot as plt\n",
        "import numpy as np\n",
        "%matplotlib inline"
      ],
      "id": "RK3QTbWDofS7",
      "execution_count": null,
      "outputs": []
    },
    {
      "cell_type": "code",
      "metadata": {
        "id": "MyYAY9BFzL4Q"
      },
      "source": [
        ""
      ],
      "id": "MyYAY9BFzL4Q",
      "execution_count": null,
      "outputs": []
    },
    {
      "cell_type": "code",
      "metadata": {
        "id": "30dxHmEPog-b"
      },
      "source": [
        "DOWNLOAD_ROOT = 'https://raw.githubusercontent.com/ageron/handson-ml/master/'\n",
        "HOUSING_PATH = os.path.join('datasets', 'housing')\n",
        "HOUSING_URL = DOWNLOAD_ROOT + \"datasets/housing/housing.tgz\""
      ],
      "id": "30dxHmEPog-b",
      "execution_count": null,
      "outputs": []
    },
    {
      "cell_type": "code",
      "metadata": {
        "id": "BFt41fBlGrpu"
      },
      "source": [
        "def fetch_housing_data(housing_url = HOUSING_URL, housing_path = HOUSING_PATH):\n",
        "    if not os.path.isdir(housing_path):\n",
        "        os.makedirs(housing_path, exist_ok=True)\n",
        "    tgz_path = os.path.join(housing_path, 'housing.tgz')\n",
        "    urllib.request.urlretrieve(housing_url, tgz_path)\n",
        "\n",
        "    housig_tgz = tarfile.open(tgz_path)\n",
        "    housig_tgz.extractall(path=housing_path)\n",
        "    housig_tgz.close()\n",
        "\n",
        "fetch_housing_data()"
      ],
      "id": "BFt41fBlGrpu",
      "execution_count": null,
      "outputs": []
    },
    {
      "cell_type": "code",
      "metadata": {
        "id": "hvMRVa1PLquF"
      },
      "source": [
        "def load_housing_data(housing_path=HOUSING_PATH):\n",
        "    csv_path = os.path.join(housing_path, 'housing.csv')\n",
        "    return pd.read_csv(csv_path)\n",
        "\n",
        "housing = load_housing_data()"
      ],
      "id": "hvMRVa1PLquF",
      "execution_count": null,
      "outputs": []
    },
    {
      "cell_type": "code",
      "metadata": {
        "id": "Rl7FqE_2L_Vl"
      },
      "source": [
        "housing.head()"
      ],
      "id": "Rl7FqE_2L_Vl",
      "execution_count": null,
      "outputs": []
    },
    {
      "cell_type": "code",
      "metadata": {
        "id": "2JVTgjSQMBgU"
      },
      "source": [
        "housing.info()"
      ],
      "id": "2JVTgjSQMBgU",
      "execution_count": null,
      "outputs": []
    },
    {
      "cell_type": "code",
      "metadata": {
        "id": "12Xgc8BPMDT0"
      },
      "source": [
        "housing['ocean_proximity'].value_counts()"
      ],
      "id": "12Xgc8BPMDT0",
      "execution_count": null,
      "outputs": []
    },
    {
      "cell_type": "code",
      "metadata": {
        "id": "AUDQm8KeMFdF"
      },
      "source": [
        "housing.describe()"
      ],
      "id": "AUDQm8KeMFdF",
      "execution_count": null,
      "outputs": []
    },
    {
      "cell_type": "code",
      "metadata": {
        "id": "cNMGC5g8MHF7"
      },
      "source": [
        "housing.hist(bins=50, figsize=(20,15))\n",
        "plt.show()"
      ],
      "id": "cNMGC5g8MHF7",
      "execution_count": null,
      "outputs": []
    },
    {
      "cell_type": "code",
      "metadata": {
        "id": "hdmuuF0bMJVT"
      },
      "source": [
        "from sklearn.model_selection import train_test_split\n",
        "\n",
        "train_set, test_set = train_test_split(housing, test_size=0.2, random_state=42)"
      ],
      "id": "hdmuuF0bMJVT",
      "execution_count": null,
      "outputs": []
    },
    {
      "cell_type": "code",
      "metadata": {
        "id": "Wlpi2OIMMQS7"
      },
      "source": [
        "housing['income_cat'] = pd.cut(housing['median_income'],\n",
        "                               bins=[0.,1.5,3.0,4.5,6., np.inf],\n",
        "                               labels=[1,2,3,4,5])"
      ],
      "id": "Wlpi2OIMMQS7",
      "execution_count": null,
      "outputs": []
    },
    {
      "cell_type": "code",
      "metadata": {
        "id": "3mlt8nU_xiAz"
      },
      "source": [
        "housing['income_cat'].hist()"
      ],
      "id": "3mlt8nU_xiAz",
      "execution_count": null,
      "outputs": []
    },
    {
      "cell_type": "markdown",
      "metadata": {
        "id": "U7K-I2LXy24n"
      },
      "source": [
        "### 소득 카테고리 기반 계층 샘플링"
      ],
      "id": "U7K-I2LXy24n"
    },
    {
      "cell_type": "code",
      "metadata": {
        "id": "A6qpB-fb0VhO"
      },
      "source": [
        "from sklearn.model_selection import StratifiedShuffleSplit"
      ],
      "id": "A6qpB-fb0VhO",
      "execution_count": null,
      "outputs": []
    },
    {
      "cell_type": "code",
      "metadata": {
        "id": "q0oTVd740cjU"
      },
      "source": [
        "split = StratifiedShuffleSplit(n_splits=1, test_size=0.2, random_state=42)\n",
        "for train_index, test_index in split.split(housing, housing['income_cat']):\n",
        "    strat_train_set = housing.loc[train_index]\n",
        "    strat_test_set = housing.loc[test_index]"
      ],
      "id": "q0oTVd740cjU",
      "execution_count": null,
      "outputs": []
    },
    {
      "cell_type": "code",
      "metadata": {
        "id": "J9p4G-wm1UWL"
      },
      "source": [
        "strat_test_set['income_cat'].value_counts() / len(strat_test_set)"
      ],
      "id": "J9p4G-wm1UWL",
      "execution_count": null,
      "outputs": []
    },
    {
      "cell_type": "code",
      "metadata": {
        "id": "CFbB5C9J1b3R"
      },
      "source": [
        "# income_cat 특성 삭제\n",
        "for set_ in (strat_test_set, strat_train_set):\n",
        "  set_.drop(\"income_cat\", axis=1, inplace=True)\n"
      ],
      "id": "CFbB5C9J1b3R",
      "execution_count": null,
      "outputs": []
    },
    {
      "cell_type": "code",
      "metadata": {
        "id": "kHrXXG8p0uC4"
      },
      "source": [
        "# 훈련세트를 보존하기 위한 복사본 만들기\n",
        "housing = strat_train_set.copy()"
      ],
      "id": "kHrXXG8p0uC4",
      "execution_count": null,
      "outputs": []
    },
    {
      "cell_type": "code",
      "metadata": {
        "id": "Z4QFAsbW12kj"
      },
      "source": [
        "# 지리정보(위도와 경도)를 사용한 데이터 시각화\n",
        "housing.plot(kind='scatter', x=\"longitude\", y=\"latitude\")"
      ],
      "id": "Z4QFAsbW12kj",
      "execution_count": null,
      "outputs": []
    },
    {
      "cell_type": "code",
      "metadata": {
        "id": "YxaS_aLl0V-D"
      },
      "source": [
        "# 캘리포니아 지역의 특별한 패턴 정보 찾기 (밀집지역 부각한 산점도)\n",
        "housing.plot(kind='scatter', x=\"longitude\", y=\"latitude\", alpha=0.1)"
      ],
      "id": "YxaS_aLl0V-D",
      "execution_count": null,
      "outputs": []
    },
    {
      "cell_type": "code",
      "metadata": {
        "id": "NKSpy0MX3FoT"
      },
      "source": [
        "# 캘리포니아 주택가격(빨간색은 높은가격, 파란색은 낮은가격), 큰원은 인구가 밀집된 지역\n",
        "housing.plot(kind='scatter', x=\"longitude\", y=\"latitude\", alpha=0.4,\n",
        "             s=housing['population']/100, label='population', figsize=(10,7),\n",
        "             c='median_house_value', cmap=plt.get_cmap(\"jet\"), colorbar=True,\n",
        "             sharex=False)\n",
        "plt.legend()"
      ],
      "id": "NKSpy0MX3FoT",
      "execution_count": null,
      "outputs": []
    },
    {
      "cell_type": "code",
      "metadata": {
        "id": "65_A19oh8M6F"
      },
      "source": [
        "# 상관관계 조사\n",
        "corr_matrix = housing.corr()\n",
        "\n",
        "corr_matrix['median_house_value'].sort_values(ascending=False)"
      ],
      "id": "65_A19oh8M6F",
      "execution_count": null,
      "outputs": []
    },
    {
      "cell_type": "code",
      "metadata": {
        "id": "bSvKMLIVCbK0"
      },
      "source": [
        "housing.columns"
      ],
      "id": "bSvKMLIVCbK0",
      "execution_count": null,
      "outputs": []
    },
    {
      "cell_type": "code",
      "metadata": {
        "id": "d_VFO8ftBHdu"
      },
      "source": [
        "# 상관관계 (산점도)\n",
        "from pandas.plotting import scatter_matrix\n",
        "\n",
        "attributes = ['median_house_value', 'median_income', 'housing_median_age', 'total_bedrooms']\n",
        "scatter_matrix(housing[attributes], figsize=(12,8))"
      ],
      "id": "d_VFO8ftBHdu",
      "execution_count": null,
      "outputs": []
    },
    {
      "cell_type": "code",
      "metadata": {
        "id": "Mlg0XhhjC-20"
      },
      "source": [
        "# median_house_value에 대한 median_income 상관관계 산점도\n",
        "housing.plot(kind='scatter', x='median_income', y='median_house_value', alpha=0.1)"
      ],
      "id": "Mlg0XhhjC-20",
      "execution_count": null,
      "outputs": []
    },
    {
      "cell_type": "code",
      "metadata": {
        "id": "tWnOB78yEDJa"
      },
      "source": [
        ""
      ],
      "id": "tWnOB78yEDJa",
      "execution_count": null,
      "outputs": []
    }
  ]
}