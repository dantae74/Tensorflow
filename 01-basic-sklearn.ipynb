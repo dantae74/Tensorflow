{
  "nbformat": 4,
  "nbformat_minor": 5,
  "metadata": {
    "colab": {
      "name": "01-basic-sklearn.ipynb",
      "provenance": [],
      "include_colab_link": true
    },
    "language_info": {
      "name": "python"
    },
    "kernelspec": {
      "name": "python3",
      "display_name": "Python 3"
    }
  },
  "cells": [
    {
      "cell_type": "markdown",
      "metadata": {
        "id": "view-in-github",
        "colab_type": "text"
      },
      "source": [
        "<a href=\"https://colab.research.google.com/github/dantae74/tensorflow/blob/main/01-basic-sklearn.ipynb\" target=\"_parent\"><img src=\"https://colab.research.google.com/assets/colab-badge.svg\" alt=\"Open In Colab\"/></a>"
      ]
    },
    {
      "cell_type": "markdown",
      "metadata": {
        "id": "WfgQSbgOoe-2"
      },
      "source": [
        "## Tensorflow 2.0"
      ],
      "id": "WfgQSbgOoe-2"
    },
    {
      "cell_type": "code",
      "metadata": {
        "id": "RK3QTbWDofS7"
      },
      "source": [
        "import os\n",
        "import tarfile\n",
        "import urllib.request\n",
        "import pandas as pd\n",
        "import matplotlib.pyplot as plt\n",
        "import numpy as np\n",
        "%matplotlib inline"
      ],
      "id": "RK3QTbWDofS7",
      "execution_count": null,
      "outputs": []
    },
    {
      "cell_type": "code",
      "metadata": {
        "id": "MyYAY9BFzL4Q"
      },
      "source": [
        ""
      ],
      "id": "MyYAY9BFzL4Q",
      "execution_count": null,
      "outputs": []
    },
    {
      "cell_type": "code",
      "metadata": {
        "id": "30dxHmEPog-b"
      },
      "source": [
        "DOWNLOAD_ROOT = 'https://raw.githubusercontent.com/ageron/handson-ml/master/'\n",
        "HOUSING_PATH = os.path.join('datasets', 'housing')\n",
        "HOUSING_URL = DOWNLOAD_ROOT + \"datasets/housing/housing.tgz\""
      ],
      "id": "30dxHmEPog-b",
      "execution_count": null,
      "outputs": []
    },
    {
      "cell_type": "code",
      "metadata": {
        "id": "BFt41fBlGrpu"
      },
      "source": [
        "def fetch_housing_data(housing_url = HOUSING_URL, housing_path = HOUSING_PATH):\n",
        "    if not os.path.isdir(housing_path):\n",
        "        os.makedirs(housing_path, exist_ok=True)\n",
        "    tgz_path = os.path.join(housing_path, 'housing.tgz')\n",
        "    urllib.request.urlretrieve(housing_url, tgz_path)\n",
        "\n",
        "    housig_tgz = tarfile.open(tgz_path)\n",
        "    housig_tgz.extractall(path=housing_path)\n",
        "    housig_tgz.close()\n",
        "\n",
        "fetch_housing_data()"
      ],
      "id": "BFt41fBlGrpu",
      "execution_count": null,
      "outputs": []
    },
    {
      "cell_type": "code",
      "metadata": {
        "id": "hvMRVa1PLquF"
      },
      "source": [
        "def load_housing_data(housing_path=HOUSING_PATH):\n",
        "    csv_path = os.path.join(housing_path, 'housing.csv')\n",
        "    return pd.read_csv(csv_path)\n",
        "\n",
        "housing = load_housing_data()"
      ],
      "id": "hvMRVa1PLquF",
      "execution_count": null,
      "outputs": []
    },
    {
      "cell_type": "code",
      "metadata": {
        "id": "Rl7FqE_2L_Vl"
      },
      "source": [
        "housing.head()"
      ],
      "id": "Rl7FqE_2L_Vl",
      "execution_count": null,
      "outputs": []
    },
    {
      "cell_type": "code",
      "metadata": {
        "id": "2JVTgjSQMBgU"
      },
      "source": [
        "housing.info()"
      ],
      "id": "2JVTgjSQMBgU",
      "execution_count": null,
      "outputs": []
    },
    {
      "cell_type": "code",
      "metadata": {
        "id": "12Xgc8BPMDT0"
      },
      "source": [
        "housing['ocean_proximity'].value_counts()"
      ],
      "id": "12Xgc8BPMDT0",
      "execution_count": null,
      "outputs": []
    },
    {
      "cell_type": "code",
      "metadata": {
        "id": "AUDQm8KeMFdF"
      },
      "source": [
        "housing.describe()"
      ],
      "id": "AUDQm8KeMFdF",
      "execution_count": null,
      "outputs": []
    },
    {
      "cell_type": "code",
      "metadata": {
        "id": "cNMGC5g8MHF7"
      },
      "source": [
        "housing.hist(bins=50, figsize=(20,15))\n",
        "plt.show()"
      ],
      "id": "cNMGC5g8MHF7",
      "execution_count": null,
      "outputs": []
    },
    {
      "cell_type": "code",
      "metadata": {
        "id": "hdmuuF0bMJVT"
      },
      "source": [
        "from sklearn.model_selection import train_test_split\n",
        "\n",
        "train_set, test_set = train_test_split(housing, test_size=0.2, random_state=42)"
      ],
      "id": "hdmuuF0bMJVT",
      "execution_count": null,
      "outputs": []
    },
    {
      "cell_type": "code",
      "metadata": {
        "id": "Wlpi2OIMMQS7"
      },
      "source": [
        "housing['income_cat'] = pd.cut(housing['median_income'],\n",
        "                               bins=[0.,1.5,3.0,4.5,6., np.inf],\n",
        "                               labels=[1,2,3,4,5])"
      ],
      "id": "Wlpi2OIMMQS7",
      "execution_count": null,
      "outputs": []
    },
    {
      "cell_type": "code",
      "metadata": {
        "id": "3mlt8nU_xiAz"
      },
      "source": [
        "housing['income_cat'].hist()"
      ],
      "id": "3mlt8nU_xiAz",
      "execution_count": null,
      "outputs": []
    },
    {
      "cell_type": "markdown",
      "metadata": {
        "id": "U7K-I2LXy24n"
      },
      "source": [
        "### 소득 카테고리 기반 계층 샘플링"
      ],
      "id": "U7K-I2LXy24n"
    },
    {
      "cell_type": "code",
      "metadata": {
        "id": "A6qpB-fb0VhO"
      },
      "source": [
        "from sklearn.model_selection import StratifiedShuffleSplit"
      ],
      "id": "A6qpB-fb0VhO",
      "execution_count": null,
      "outputs": []
    },
    {
      "cell_type": "code",
      "metadata": {
        "id": "q0oTVd740cjU"
      },
      "source": [
        "split = StratifiedShuffleSplit(n_splits=1, test_size=0.2, random_state=42)\n",
        "for train_index, test_index in split.split(housing, housing['income_cat']):\n",
        "    strat_train_set = housing.loc[train_index]\n",
        "    strat_test_set = housing.loc[test_index]"
      ],
      "id": "q0oTVd740cjU",
      "execution_count": null,
      "outputs": []
    },
    {
      "cell_type": "code",
      "metadata": {
        "id": "J9p4G-wm1UWL"
      },
      "source": [
        "strat_test_set['income_cat'].value_counts() / len(strat_test_set)"
      ],
      "id": "J9p4G-wm1UWL",
      "execution_count": null,
      "outputs": []
    },
    {
      "cell_type": "code",
      "metadata": {
        "id": "CFbB5C9J1b3R"
      },
      "source": [
        "# income_cat 특성 삭제\n",
        "for set_ in (strat_test_set, strat_train_set):\n",
        "  set_.drop(\"income_cat\", axis=1, inplace=True)\n"
      ],
      "id": "CFbB5C9J1b3R",
      "execution_count": null,
      "outputs": []
    },
    {
      "cell_type": "code",
      "metadata": {
        "id": "kHrXXG8p0uC4"
      },
      "source": [
        "# 훈련세트를 보존하기 위한 복사본 만들기\n",
        "housing = strat_train_set.copy()"
      ],
      "id": "kHrXXG8p0uC4",
      "execution_count": null,
      "outputs": []
    },
    {
      "cell_type": "code",
      "metadata": {
        "id": "Z4QFAsbW12kj"
      },
      "source": [
        "# 지리정보(위도와 경도)를 사용한 데이터 시각화\n",
        "housing.plot(kind='scatter', x=\"longitude\", y=\"latitude\")"
      ],
      "id": "Z4QFAsbW12kj",
      "execution_count": null,
      "outputs": []
    },
    {
      "cell_type": "code",
      "metadata": {
        "id": "YxaS_aLl0V-D"
      },
      "source": [
        "# 캘리포니아 지역의 특별한 패턴 정보 찾기 (밀집지역 부각한 산점도)\n",
        "housing.plot(kind='scatter', x=\"longitude\", y=\"latitude\", alpha=0.1)"
      ],
      "id": "YxaS_aLl0V-D",
      "execution_count": null,
      "outputs": []
    },
    {
      "cell_type": "code",
      "metadata": {
        "id": "NKSpy0MX3FoT"
      },
      "source": [
        "# 캘리포니아 주택가격(빨간색은 높은가격, 파란색은 낮은가격), 큰원은 인구가 밀집된 지역\n",
        "housing.plot(kind='scatter', x=\"longitude\", y=\"latitude\", alpha=0.4,\n",
        "             s=housing['population']/100, label='population', figsize=(10,7),\n",
        "             c='median_house_value', cmap=plt.get_cmap(\"jet\"), colorbar=True,\n",
        "             sharex=False)\n",
        "plt.legend()"
      ],
      "id": "NKSpy0MX3FoT",
      "execution_count": null,
      "outputs": []
    },
    {
      "cell_type": "code",
      "metadata": {
        "id": "65_A19oh8M6F"
      },
      "source": [
        "# 상관관계 조사\n",
        "corr_matrix = housing.corr()\n",
        "\n",
        "corr_matrix['median_house_value'].sort_values(ascending=False)"
      ],
      "id": "65_A19oh8M6F",
      "execution_count": null,
      "outputs": []
    },
    {
      "cell_type": "code",
      "metadata": {
        "id": "bSvKMLIVCbK0"
      },
      "source": [
        "housing.columns"
      ],
      "id": "bSvKMLIVCbK0",
      "execution_count": null,
      "outputs": []
    },
    {
      "cell_type": "code",
      "metadata": {
        "id": "d_VFO8ftBHdu"
      },
      "source": [
        "# 상관관계 (산점도)\n",
        "from pandas.plotting import scatter_matrix\n",
        "\n",
        "attributes = ['median_house_value', 'median_income', 'housing_median_age', 'total_bedrooms']\n",
        "scatter_matrix(housing[attributes], figsize=(12,8))"
      ],
      "id": "d_VFO8ftBHdu",
      "execution_count": null,
      "outputs": []
    },
    {
      "cell_type": "code",
      "metadata": {
        "id": "Mlg0XhhjC-20"
      },
      "source": [
        "# median_house_value에 대한 median_income 상관관계 산점도\n",
        "housing.plot(kind='scatter', x='median_income', y='median_house_value', alpha=0.1)"
      ],
      "id": "Mlg0XhhjC-20",
      "execution_count": null,
      "outputs": []
    },
    {
      "cell_type": "code",
      "metadata": {
        "id": "tWnOB78yEDJa"
      },
      "source": [
        "# 특성 조합 특성 조합\n",
        "housing['rooms_per_household'] = housing['total_bedrooms'] / housing['households']\n",
        "housing['bedrooms_per_room'] = housing['total_bedrooms'] / housing['total_rooms']\n",
        "housing['population_per_household'] = housing['population'] / housing['households']\n",
        "housing['rooms_per_household'] = housing['total_bedrooms'] / housing['households']\n",
        "housing['bedrooms_per_room'] = housing['total_bedrooms'] / housing['total_rooms']\n",
        "housing['population_per_household'] = housing['population'] / housing['households']"
      ],
      "id": "tWnOB78yEDJa",
      "execution_count": null,
      "outputs": []
    },
    {
      "cell_type": "code",
      "metadata": {
        "id": "FqkIoTVBanjT"
      },
      "source": [
        "corr_matrix = housing.corr()\n",
        "corr_matrix['median_house_value'].sort_values(ascending=False)"
      ],
      "id": "FqkIoTVBanjT",
      "execution_count": null,
      "outputs": []
    },
    {
      "cell_type": "code",
      "metadata": {
        "id": "PRmUbo96azsb"
      },
      "source": [
        "# 예측변수와 타깃값 분리\n",
        "\n",
        "housing = strat_train_set.drop('median_house_value', axis=1)\n",
        "housing_labels = strat_train_set['median_house_value'].copy()"
      ],
      "id": "PRmUbo96azsb",
      "execution_count": null,
      "outputs": []
    },
    {
      "cell_type": "code",
      "metadata": {
        "id": "KJMpk_vzdJBk"
      },
      "source": [
        "# 데이터 정제\n",
        "\n",
        "from sklearn.impute import SimpleImputer\n",
        "\n",
        "imputer = SimpleImputer(strategy='median')"
      ],
      "id": "KJMpk_vzdJBk",
      "execution_count": null,
      "outputs": []
    },
    {
      "cell_type": "code",
      "metadata": {
        "id": "4JsDerJbexQ0"
      },
      "source": [
        "# 수치형 특성에 누락된 값에 대해 중앙값 적용\n",
        "housing_num = housing.drop('ocean_proximity', axis=1)"
      ],
      "id": "4JsDerJbexQ0",
      "execution_count": null,
      "outputs": []
    },
    {
      "cell_type": "code",
      "metadata": {
        "id": "oV2tuiToe_h1"
      },
      "source": [
        "imputer.fit(housing_num)"
      ],
      "id": "oV2tuiToe_h1",
      "execution_count": null,
      "outputs": []
    },
    {
      "cell_type": "code",
      "metadata": {
        "id": "enCMMxVYfF4a"
      },
      "source": [
        "imputer.statistics_"
      ],
      "id": "enCMMxVYfF4a",
      "execution_count": null,
      "outputs": []
    },
    {
      "cell_type": "code",
      "metadata": {
        "id": "pyXvUWXUfi2q"
      },
      "source": [
        "housing_num.median().values"
      ],
      "id": "pyXvUWXUfi2q",
      "execution_count": null,
      "outputs": []
    },
    {
      "cell_type": "code",
      "metadata": {
        "id": "m2SEBb9ifwlH"
      },
      "source": [
        "# 훈련 세트에 누락된 값을 학습한 중앙값으로 변경\n",
        "# 결과로 numpy의 arrary인 type을 다시 pandas의 dataframe으로 변환\n",
        "X = imputer.transform(housing_num)\n",
        "housing_tr = pd.DataFrame(X, columns=housing_num.columns, index=housing_num.index)"
      ],
      "id": "m2SEBb9ifwlH",
      "execution_count": null,
      "outputs": []
    },
    {
      "cell_type": "code",
      "metadata": {
        "id": "0STZ8F1xqRGV"
      },
      "source": [
        "housing_cat = housing[['ocean_proximity']]\n",
        "housing_cat.head()"
      ],
      "id": "0STZ8F1xqRGV",
      "execution_count": null,
      "outputs": []
    },
    {
      "cell_type": "code",
      "metadata": {
        "id": "Lad26kfBgFGX"
      },
      "source": [
        "# 범주형 데이터 수치형으로 변환\n",
        "# Ordinal Encoder의 경우  머신러닝이 가까이 있는 두값이 떨어져 있는 두값보다 더 비슷하다고 생각\n",
        "from sklearn.preprocessing import OrdinalEncoder\n",
        "\n",
        "ordinal_encoder = OrdinalEncoder()\n",
        "housing_cat_encoded = ordinal_encoder.fit_transform(housing_cat)\n",
        "housing_cat_encoded[0:10]"
      ],
      "id": "Lad26kfBgFGX",
      "execution_count": null,
      "outputs": []
    },
    {
      "cell_type": "code",
      "metadata": {
        "id": "5F6kMeeJqC6q"
      },
      "source": [
        "ordinal_encoder.categories_"
      ],
      "id": "5F6kMeeJqC6q",
      "execution_count": null,
      "outputs": []
    },
    {
      "cell_type": "code",
      "metadata": {
        "id": "nX3hyRgHqhDL"
      },
      "source": [
        "# One-Hot Encoding\n",
        "from sklearn.preprocessing import OneHotEncoder\n",
        "\n",
        "cat_encoder = OneHotEncoder()\n",
        "housing_cat_1hot = cat_encoder.fit_transform(housing_cat)\n",
        "housing_cat_1hot"
      ],
      "id": "nX3hyRgHqhDL",
      "execution_count": null,
      "outputs": []
    },
    {
      "cell_type": "code",
      "metadata": {
        "id": "LwmTwMq_siaj"
      },
      "source": [
        "housing_cat_1hot.toarray()"
      ],
      "id": "LwmTwMq_siaj",
      "execution_count": null,
      "outputs": []
    },
    {
      "cell_type": "code",
      "metadata": {
        "id": "bbCqTWD2s6PY"
      },
      "source": [
        "cat_encoder.categories_"
      ],
      "id": "bbCqTWD2s6PY",
      "execution_count": null,
      "outputs": []
    },
    {
      "cell_type": "code",
      "metadata": {
        "id": "Hdjb9tmutFu4"
      },
      "source": [
        "# 나만의 변환기\n",
        "from sklearn.base import BaseEstimator, TransformerMixin\n",
        "\n",
        "rooms_ix, bedrooms_ix, population_ix, household_ix = 3, 4, 5, 6\n",
        "\n",
        "class CombinedAttributeAdder(BaseEstimator, TransformerMixin):\n",
        "  def __init__(self, add_bedrooms_per_room = True): \n",
        "    self.add_bedrooms_per_room = add_bedrooms_per_room\n",
        "  def fit(self, X, y=None):\n",
        "    return self\n",
        "  def transform(self, X):\n",
        "    rooms_per_household = X[:,rooms_ix] / X[:,household_ix]\n",
        "    population_per_household = X[:,population_ix] / X[:,household_ix]\n",
        "    if self.add_bedrooms_per_room:\n",
        "      bedrooms_per_room = X[:, bedrooms_ix] / X[:, rooms_ix]\n",
        "      return np.c_[X, rooms_per_household, population_per_household, bedrooms_per_room]\n",
        "    else:\n",
        "      return np.c_[X, rooms_per_household, population_per_household]\n",
        "  \n",
        "attr_adder = CombinedAttributeAdder(add_bedrooms_per_room=False)\n",
        "housing_extra_attribs = attr_adder.transform(housing.values)"
      ],
      "id": "Hdjb9tmutFu4",
      "execution_count": null,
      "outputs": []
    },
    {
      "cell_type": "code",
      "metadata": {
        "id": "h0_ioDOFy5qf"
      },
      "source": [
        "# 변환 Pipeline\n",
        "# fit_transform() 메소드가 있어야 함.\n",
        "\n",
        "from sklearn.pipeline import Pipeline\n",
        "from sklearn.preprocessing import StandardScaler\n",
        "\n",
        "num_pipeline = Pipeline([\n",
        "                         ('imputer', SimpleImputer(strategy='median')),\n",
        "                         ('attribs_adder', CombinedAttributeAdder()),\n",
        "                         ('std_scaler', StandardScaler)\n",
        "          ])\n",
        "\n",
        "housing_num_tr = num_pipeline.fit_transform(housing_num)"
      ],
      "id": "h0_ioDOFy5qf",
      "execution_count": null,
      "outputs": []
    },
    {
      "cell_type": "code",
      "metadata": {
        "id": "ZFeViIsSy7rA"
      },
      "source": [
        "# 변환 Pipeline\n",
        "# fit_transform() 메소드가 있어야 함.\n",
        "\n",
        "from sklearn.compose import ColumnTransformer\n",
        "\n",
        "num_attribs = list(housing_num)\n",
        "cat_attribs = ['ocean_proximity']\n",
        "\n",
        "full_pipline = ColumnTransformer([\n",
        "                         ('num', num_pipeline, num_attribs),\n",
        "                         ('cat', OneHotEncoder(), cat_attribs)\n",
        "          ])\n",
        "\n",
        "housing_prepared = full_pipline.fit_transform(housing)"
      ],
      "id": "ZFeViIsSy7rA",
      "execution_count": null,
      "outputs": []
    },
    {
      "cell_type": "code",
      "metadata": {
        "id": "ZArEDyBUSq0T"
      },
      "source": [
        ""
      ],
      "id": "ZArEDyBUSq0T",
      "execution_count": null,
      "outputs": []
    }
  ]
}