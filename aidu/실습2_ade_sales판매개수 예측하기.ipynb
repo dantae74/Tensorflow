{
  "nbformat": 4,
  "nbformat_minor": 5,
  "metadata": {
    "colab": {
      "name": "실습2_ade_sales판매개수 예측하기.ipynb",
      "provenance": [],
      "include_colab_link": true
    },
    "language_info": {
      "name": "python"
    },
    "kernelspec": {
      "name": "python3",
      "display_name": "Python 3"
    }
  },
  "cells": [
    {
      "cell_type": "markdown",
      "metadata": {
        "id": "view-in-github",
        "colab_type": "text"
      },
      "source": [
        "<a href=\"https://colab.research.google.com/github/dantae74/tensorflow/blob/main/aidu/%EC%8B%A4%EC%8A%B52_ade_sales%ED%8C%90%EB%A7%A4%EA%B0%9C%EC%88%98%20%EC%98%88%EC%B8%A1%ED%95%98%EA%B8%B0.ipynb\" target=\"_parent\"><img src=\"https://colab.research.google.com/assets/colab-badge.svg\" alt=\"Open In Colab\"/></a>"
      ]
    },
    {
      "cell_type": "markdown",
      "metadata": {
        "id": "WfgQSbgOoe-2"
      },
      "source": [
        "**실습2**\n",
        "### **ade_sales 데이터를 이용한 <span style=\"color:darkgreen\"> AI 예측</span> 문제**\n",
        "---\n"
      ],
      "id": "WfgQSbgOoe-2"
    },
    {
      "cell_type": "markdown",
      "metadata": {
        "id": "Pct2ZVvCkxiB"
      },
      "source": [
        "#### 레몬/오렌지 에이드 판매량, 날짜, 위치 등의 데이터를 이용하여 판매량을 예측하는 AI 문제 입니다. \n",
        "#### AI코딩 단계에 따라 주어지는 문제를 읽고 답안을 작성하세요.\n",
        " - 데이터 : 수치형(회귀)\n",
        " - 모델 : RandomForest, DeepLearning\n",
        " - 주요 전처리 : 분석 Column 추가, 데이터 형변환, 공백 처리, label 전처리(카테고리 → 수치화)\n",
        " - 주요 학습 내용 : 산점도, 회귀형 모델 생성(회귀형 모델 ㅡ특성, input, output 처리, 손실함수 등)\n",
        "---\n"
      ],
      "id": "Pct2ZVvCkxiB"
    },
    {
      "cell_type": "markdown",
      "metadata": {
        "id": "dZVsG-XZlCqE"
      },
      "source": [
        "**ade_sales.csv / 에이드 판매 데이터 컬럼 설명**\n",
        "- Date : 날짜, 2016년 7월 1일 ~ 31일\n",
        "- Location : 판매 장소, Park or Beach\n",
        "- Lemon : 레몬 에이드 판매량\n",
        "- Orange : 오렌지 에이드 판매량\n",
        "- Temperature : 기온\n",
        "- Leaflets : 손님에게 나누어준 전단지 수\n",
        "- price : 에이드 판매 가격 (단위 : 원)"
      ],
      "id": "dZVsG-XZlCqE"
    },
    {
      "cell_type": "markdown",
      "metadata": {
        "id": "Bmeh-n8ZlF5n"
      },
      "source": [
        "---\n",
        "> **<span style=\"color:red\">다음 문항을 풀기 전에 </span>아래 코드를 실행해주시기 바랍니다.**<br>\n",
        "> - AIDU 사용을 위한 AIDU 환경변수를 선언을 하는 코드. <span style=\"color:darkgreen\"></span><br>\n",
        "\n",
        "---"
      ],
      "id": "Bmeh-n8ZlF5n"
    },
    {
      "cell_type": "code",
      "metadata": {
        "id": "e9JXMIgxl7sk"
      },
      "source": [
        "# AIDU 내부 연동을 위한 라이브러리\n",
        "from aicentro.session import Session\n",
        "from aicentro.framework.keras import Keras as AiduFrm\n",
        "# AIDU와 연동을 위한 변수\n",
        "aidu_session = Session(verify=False)\n",
        "aidu_framework = AiduFrm(session=aidu_session)"
      ],
      "id": "e9JXMIgxl7sk",
      "execution_count": null,
      "outputs": []
    },
    {
      "cell_type": "markdown",
      "metadata": {
        "id": "BYY6CsHzl8bM"
      },
      "source": [
        "### **Q1. Pandas를 pd로 alias하여 사용할 수 있도록 불러오는 코드를 작성하고 실행하시기 바랍니다.**"
      ],
      "id": "BYY6CsHzl8bM"
    },
    {
      "cell_type": "code",
      "metadata": {
        "id": "IeUNOVYil8zE"
      },
      "source": [
        "import pandas as pd"
      ],
      "id": "IeUNOVYil8zE",
      "execution_count": null,
      "outputs": []
    },
    {
      "cell_type": "markdown",
      "metadata": {
        "id": "RxpgwRv5l88R"
      },
      "source": [
        "### **Q2.Matplotlib의 pyplot을 plt로 alias하여 사용할 수 있도록 불러오는 코드를 작성하고 실행하시기 바랍니다.**\n",
        "---"
      ],
      "id": "RxpgwRv5l88R"
    },
    {
      "cell_type": "code",
      "metadata": {
        "id": "gwFm7TgZl9Eh"
      },
      "source": [
        "import matplotlib.pyplot as plt"
      ],
      "id": "gwFm7TgZl9Eh",
      "execution_count": null,
      "outputs": []
    },
    {
      "cell_type": "markdown",
      "metadata": {
        "id": "o6S0Ejtfl9MZ"
      },
      "source": [
        "### **Q3.ade_sales.csv를 판다스 데이터 프레임으로 불러와서 ade에 선언하는 코드를 작성하고 실행하시기 바랍니다.**\n",
        "---"
      ],
      "id": "o6S0Ejtfl9MZ"
    },
    {
      "cell_type": "code",
      "metadata": {
        "id": "sd1nqQLHl9Uh"
      },
      "source": [
        "# 여기에 답안코드를 작성하세요\n",
        "\n",
        "ade = pd.read_csv(aidu_framework.config.data_dir + '/ade_sales.csv', encoding='cp949')"
      ],
      "id": "sd1nqQLHl9Uh",
      "execution_count": null,
      "outputs": []
    },
    {
      "cell_type": "markdown",
      "metadata": {
        "id": "Mohz85Mzl9cR"
      },
      "source": [
        "### **Q4. 데이터 프레임 ade의 마지막 10개 행을 조회하는 코드를 작성하고 실행하시기 바랍니다.**\n",
        "---"
      ],
      "id": "Mohz85Mzl9cR"
    },
    {
      "cell_type": "code",
      "metadata": {
        "id": "bewHUQ8Gl9kp"
      },
      "source": [
        "ade.tail(10)"
      ],
      "id": "bewHUQ8Gl9kp",
      "execution_count": null,
      "outputs": []
    },
    {
      "cell_type": "markdown",
      "metadata": {
        "id": "n7yAiBU5mokP"
      },
      "source": [
        "### **Q5. 데이터 프레임 ade는 총 몇개의 row와 column을 가지고 있는지 출력하는 코드를 작성하고 실행하시기 바랍니다.**\n",
        "---"
      ],
      "id": "n7yAiBU5mokP"
    },
    {
      "cell_type": "code",
      "metadata": {
        "id": "7vEP853Tmo43"
      },
      "source": [
        "# 여기에 답안코드를 작성하세요\n",
        "\n",
        "print(ade.shape)"
      ],
      "id": "7vEP853Tmo43",
      "execution_count": null,
      "outputs": []
    },
    {
      "cell_type": "markdown",
      "metadata": {
        "id": "8B6sYCkqmpB_"
      },
      "source": [
        "### **Q6. 데이터 프레임 ade에서 중복된 열을 찾아 제거하는 코드를 작성하고 실행하시기 바랍니다.**\n",
        "---"
      ],
      "id": "8B6sYCkqmpB_"
    },
    {
      "cell_type": "code",
      "metadata": {
        "id": "xryzyLjEmpK3"
      },
      "source": [
        "# 여기에 답안코드를 작성하세요\n",
        "\n",
        "ade.drop_duplicates(inplace=True, ignore_index=True)"
      ],
      "id": "xryzyLjEmpK3",
      "execution_count": null,
      "outputs": []
    },
    {
      "cell_type": "markdown",
      "metadata": {
        "id": "HxlFBOSWmpUI"
      },
      "source": [
        "### **Q7. 데이터 프레임 ade에서 컬럼 Date의 데이터 타입을 날짜타입으로 올바르게 변환하는 코드를 작성하고 실행하시기 바랍니다.**\n",
        "---"
      ],
      "id": "HxlFBOSWmpUI"
    },
    {
      "cell_type": "code",
      "metadata": {
        "id": "39tPkv6lmpc_"
      },
      "source": [
        "# 여기에 답안코드를 작성하세요\n",
        "\n",
        "ade['Date'] = pd.to_datetime(ade['Date'])"
      ],
      "id": "39tPkv6lmpc_",
      "execution_count": null,
      "outputs": []
    },
    {
      "cell_type": "markdown",
      "metadata": {
        "id": "J_uDiinMmpmn"
      },
      "source": [
        "### **Q8. 데이터 프레임 ade에서 빈칸의 위치를 찾는 코드를 작성하고 실행하시기 바랍니다.**\n",
        "---"
      ],
      "id": "J_uDiinMmpmn"
    },
    {
      "cell_type": "code",
      "metadata": {
        "id": "TZXL7mp5mpvf"
      },
      "source": [
        "# 여기에 답안코드를 작성하세요\n",
        "\n",
        "print(\"열 확인 \\n\", ade.isnull().any())\n",
        "print(\"행 확인 \\n\",   ade[ade.isnull().any(axis=1)].index  ) "
      ],
      "id": "TZXL7mp5mpvf",
      "execution_count": null,
      "outputs": []
    },
    {
      "cell_type": "markdown",
      "metadata": {
        "id": "qAjEVk5Ump4Q"
      },
      "source": [
        "### **Q9. 8번 문항(Q8)에서 확인된 빈칸을, 빈칸으로 부터 과거 4일사이의 값들의 평균을 계산하고 반올림하여 메우는(Imputing) 코드를 작성하고 실행하시기 바랍니다.**\n",
        "---"
      ],
      "id": "qAjEVk5Ump4Q"
    },
    {
      "cell_type": "code",
      "metadata": {
        "id": "inVFsEiImqA_"
      },
      "source": [
        "# 여기에 답안코드를 작성하세요\n",
        "\n",
        "import numpy as np\n",
        "ade.loc[19, 'Leaflets'] = np.around( ade.loc[15:18, 'Leaflets'].mean() )"
      ],
      "id": "inVFsEiImqA_",
      "execution_count": null,
      "outputs": []
    },
    {
      "cell_type": "markdown",
      "metadata": {
        "id": "-xwJHcoLmqJn"
      },
      "source": [
        "### **Q10. 다음 조건에 맞추어 데이터 프레임 ade안에  day 컬럼을 추가하시기 바랍니다.**\n",
        "\n",
        "* **\n",
        "- date 컬럼을 이용하여 요일을 만드시오.\n",
        "- 요일은 dt.weekday를 활용해서 진행하시면 되며,  해당 진행시 integer로 encoding 됩니다.\n",
        "---"
      ],
      "id": "-xwJHcoLmqJn"
    },
    {
      "cell_type": "code",
      "metadata": {
        "id": "psQJy_vQmqSH"
      },
      "source": [
        "# 여기에 답안코드를 작성하세요\n",
        "\n",
        "ade['day'] = ade['Date'].dt.weekday # 월요일이 0이다."
      ],
      "id": "psQJy_vQmqSH",
      "execution_count": null,
      "outputs": []
    },
    {
      "cell_type": "markdown",
      "metadata": {
        "id": "tkqXZlYQmqav"
      },
      "source": [
        "### **Q11. 다음 조건에 맞추어 데이터 프레임 ade안에 wdwe 컬럼을 추가하시기 바랍니다.**\n",
        "\n",
        "* **\n",
        "- 평일(월요일 ~ 금요일) 이라면 wdwe 컬럼의 값은 1, 평일이면 day 의 값이 = 1,2,3,4,\n",
        "- 주말(토요일 ~ 일요일) 이라면 wdwe 컬럼의 값은 0, 주말이면 day 의 값이 = 5,6\n",
        "---"
      ],
      "id": "tkqXZlYQmqav"
    },
    {
      "cell_type": "code",
      "metadata": {
        "id": "kXP1qfd7neY7"
      },
      "source": [
        "# 여기에 답안코드를 작성하세요\n",
        "\n",
        "ade['wdwe'] = 1\n",
        "ade.loc[ ade['day'].isin([5,6]) , 'wdwe'] = 0"
      ],
      "id": "kXP1qfd7neY7",
      "execution_count": null,
      "outputs": []
    },
    {
      "cell_type": "markdown",
      "metadata": {
        "id": "fpo97vvaneVs"
      },
      "source": [
        "### **Q12. 데이터 프레임 ade의 Leaflets 컬럼을 x축으로 Lemon 컬럼을 y축으로하는 산점도를 시각화 하시기 바랍니다.**\n",
        "\n",
        "* **\n",
        "- 타이틀이 Lemon ~ Leaflets 이어야 한다.\n",
        "---"
      ],
      "id": "fpo97vvaneVs"
    },
    {
      "cell_type": "code",
      "metadata": {
        "id": "3ijtNHMdneSl"
      },
      "source": [
        "# 여기에 답안코드를 작성하세요\n",
        "\n",
        "ade.plot(kind='scatter', x='Lemon', y='Leaflets')\n",
        "plt.title('Lemon ~ Leaflets')\n",
        "plt.show()"
      ],
      "id": "3ijtNHMdneSl",
      "execution_count": null,
      "outputs": []
    },
    {
      "cell_type": "markdown",
      "metadata": {
        "id": "5jw5pwPbnePR"
      },
      "source": [
        "### **Q14. 데이터를 트레이닝셋 / 테스트셋으로 분할하시기 바랍니다.**\n",
        "* **\n",
        "- y는 데이터 프레임의 'Lemon'과 'Orange'컬럼이다.\n",
        "- x는 'Temperature', 'Leaflets', 'price','effect_leaflets', 'wdwe'만 사용한다.\n",
        "- train : test = 9 : 1\n",
        "- Location의 Park와 Beach가 골고루 분배되도록 stratify하게 분할한다.\n",
        "- 변수명 규칙은 다음과 같다.\n",
        "    * x_train, y_train\n",
        "    * x_test, y_test\n",
        "- random state, seed 등은 2021로 설정한다.\n",
        "---"
      ],
      "id": "5jw5pwPbnePR"
    },
    {
      "cell_type": "code",
      "metadata": {
        "id": "k7K76FHJneMV"
      },
      "source": [
        "# 여기에 답안코드를 작성하세요\n",
        "\n",
        "x = ade[['Temperature', 'Leaflets', 'price','effect_leaflets','wdwe']]\n",
        "y = ade[['Lemon']]\n",
        "\n",
        "from sklearn.model_selection import train_test_split\n",
        "\n",
        "x_train, x_test, y_train, y_test = train_test_split(x, y, test_size=0.1, random_state=2021, stratify = ade['Location'])"
      ],
      "id": "k7K76FHJneMV",
      "execution_count": null,
      "outputs": []
    },
    {
      "cell_type": "markdown",
      "metadata": {
        "id": "WEVTgbuBneJe"
      },
      "source": [
        "### **Q15. 트레이닝 데이터를 트레이닝셋 / 벨리데이션셋으로 분할하시기 바랍니다.**\n",
        "* **\n",
        "- x_train, y_train을 이용한다.\n",
        "- train : validation = 8 : 2\n",
        "- 변수명 규칙은 다음과 같다.\n",
        "    * x_train, y_train\n",
        "    * x_valid, y_valid\n",
        "- random state, seed 등은 2021로 설정한다.\n",
        "---"
      ],
      "id": "WEVTgbuBneJe"
    },
    {
      "cell_type": "code",
      "metadata": {
        "id": "xbOE-qiUneGZ"
      },
      "source": [
        "# 여기에 답안코드를 작성하세요\n",
        "\n",
        "from sklearn.model_selection import train_test_split\n",
        "\n",
        "x_train, x_valid, y_train, y_valid = train_test_split(x_train, y_train, test_size=0.2, random_state=2021)"
      ],
      "id": "xbOE-qiUneGZ",
      "execution_count": null,
      "outputs": []
    },
    {
      "cell_type": "markdown",
      "metadata": {
        "id": "QvDhaeVWnd9F"
      },
      "source": [
        "### **Q16. 다중회귀 선형분석 모델들을 학습시키시기 바랍니다.**\n",
        "* **\n",
        "- 트레이닝 셋 (x_train, y_train['Lemon'])을 이용하여 학습시킨다."
      ],
      "id": "QvDhaeVWnd9F"
    },
    {
      "cell_type": "code",
      "metadata": {
        "id": "6HoROBjQndsT"
      },
      "source": [
        "from sklearn.linear_model import LinearRegression\n",
        "\n",
        "line_fitter = LinearRegression()\n",
        "line_fitter.fit(x_train, y_train['Lemon'])"
      ],
      "id": "6HoROBjQndsT",
      "execution_count": null,
      "outputs": []
    },
    {
      "cell_type": "markdown",
      "metadata": {
        "id": "roirKZT2ndkM"
      },
      "source": [
        "### **Q17. linear Regression의 성능을 mean absolute error 성능 지표를 통해 확인하시기 바랍니다.**\n",
        "* **\n",
        "- test 데이터를 통해 모델의 예측을 시행해 보며, 예측 값 변수는 y_pred를 사용한다.\n",
        "- 성능지표로는 mean absolute error를 사용한다.\n",
        "- 성능지표를 출력한다.\n",
        "---"
      ],
      "id": "roirKZT2ndkM"
    },
    {
      "cell_type": "code",
      "metadata": {
        "id": "a3odBpO2ndZ7"
      },
      "source": [
        "# 여기에 답안코드를 작성하세요\n",
        "y_pred=line_fitter.predict(x_test)\n",
        "from sklearn.metrics import mean_absolute_error as MAE\n",
        "mae = MAE(y_test, y_pred)\n",
        "print(mae)"
      ],
      "id": "a3odBpO2ndZ7",
      "execution_count": null,
      "outputs": []
    },
    {
      "cell_type": "markdown",
      "metadata": {
        "id": "vV_3LqXbz8YP"
      },
      "source": [
        "### **Q18. 예측데이터와 실제 데이터를 산점도를 통해서, 정확성에 대해 시각화하여 확인해본다.**\n",
        "* **\n",
        "- scatter plot을 이용한다.\n",
        "- 사전에 예측한 예측 값(y_pred)와 실제 y_test의 lemon 항목에 대해 산점도를 그려본다.\n",
        "- x축과 y축에 라벨을 붙여준다.\n",
        "---"
      ],
      "id": "vV_3LqXbz8YP"
    },
    {
      "cell_type": "code",
      "metadata": {
        "id": "_Cof7Cb8z8xp"
      },
      "source": [
        "# 여기에 답안코드를 작성하세요\n",
        "\n",
        "plt.figure(figsize=(6, 6))\n",
        "plt.scatter(y_test['Lemon'], y_pred, alpha=0.6)\n",
        "plt.xlabel(\"Actual lemon\")\n",
        "plt.ylabel(\"Predicted lemon\")\n",
        "plt.title(\"MULTIPLE LINEAR REGRESSION\")\n",
        "plt.legend()\n",
        "plt.show()\n",
        "print(mae)"
      ],
      "id": "_Cof7Cb8z8xp",
      "execution_count": null,
      "outputs": []
    },
    {
      "cell_type": "markdown",
      "metadata": {
        "id": "mdJxc_YGz86A"
      },
      "source": [
        "> **<span style=\"color:red\">다음 문항을 풀기 전에 </span>아래 코드를 실행하세요.**\n",
        ">"
      ],
      "id": "mdJxc_YGz86A"
    },
    {
      "cell_type": "code",
      "metadata": {
        "id": "p6bLq5IIz9FZ"
      },
      "source": [
        "import tensorflow as tf\n",
        "from tensorflow import keras\n",
        "from tensorflow.keras.layers import Input, Dense, BatchNormalization\n",
        "from tensorflow.keras.models import Sequential, Model\n",
        "from tensorflow.keras.callbacks import EarlyStopping"
      ],
      "id": "p6bLq5IIz9FZ",
      "execution_count": null,
      "outputs": []
    },
    {
      "cell_type": "markdown",
      "metadata": {
        "id": "fP6wEUI-0INf"
      },
      "source": [
        "### **Q19. 아래 조건에 맞추어 뉴럴네트워크 모델을 학습시키시기 바랍니다.**\n",
        "* **\n",
        "- Tensorflow framework를 사용한다.\n",
        "- 히든레이어는 아래와 같은 규칙에 맞추어 구성한다.\n",
        "    * 1개의 fully connected layer를 사용할 것, 노드는 인풋레이어 노드의 2배로 한다.\n",
        "    * Batchnormalization을 반드시 활용한다.\n",
        "- output layer는 Lemon 에이드 판매량을 예측할 수 있도록 구성한다.\n",
        "- output layer의 예측값이 0미만의 값이 나올 수 없도록 activation을 지정한다.\n",
        "- Early stopping을 이용하여, validation loss가 100번 이상 개선되지 않으면 학습을 중단 시키고, 가장 성능이 좋았을 때의 가중치를 복구한다.\n",
        "- 학습과정의 로그(loss)를 history에 선언하여 남긴다. loss function은 mse를 사용한다.(Mean Squared Error)\n",
        "- epochs는 2000번을 지정한다.\n",
        "---"
      ],
      "id": "fP6wEUI-0INf"
    },
    {
      "cell_type": "code",
      "metadata": {
        "id": "Z21NBfUV0IKL"
      },
      "source": [
        "# 여기에 답안코드를 작성하세요\n",
        "keras.backend.clear_session()\n",
        "\n",
        "model = Sequential()\n",
        "model.add(Dense(16, activation='relu', input_shape=(5,)))\n",
        "model.add(BatchNormalization())\n",
        "model.add(Dense(16, activation='relu'))\n",
        "model.add(BatchNormalization())\n",
        "model.add(Dense(8, activation='relu'))\n",
        "model.add(BatchNormalization())\n",
        "\n",
        "model.add(Dense(1, activation='relu'))\n",
        "\n",
        "model.compile(optimizer='adam',\n",
        "              loss='mse') \n",
        "\n",
        "es = EarlyStopping(monitor='val_loss', min_delta=0, patience=100, verbose=1, restore_best_weights=True)\n",
        "history = model.fit(x_train, y_train, epochs=2000, batch_size=32,\n",
        "                    verbose=1,validation_data=(x_valid, y_valid),callbacks=[es])"
      ],
      "id": "Z21NBfUV0IKL",
      "execution_count": null,
      "outputs": []
    },
    {
      "cell_type": "markdown",
      "metadata": {
        "id": "zpf_deH70IHH"
      },
      "source": [
        "### **Q20. 다음 조건에 맞추어 뉴럴네트워크의 학습 로그를 시각화 하시기 바랍니다.**\n",
        "* **\n",
        "- 필요한 라이브러리가 있다면 따로 불러온다.\n",
        "- epochs에 따른 loss의 변화를 시각화 한다.\n",
        "- train loss와 validation loss를 전부 시각화하고, 구별가능해야 한다.\n",
        "- 그래프의 타이틀은 'Loss'로 표시한다.\n",
        "- x축에는 'epochs'라고 표시하고 y축에는 'MSE'라고 표시한다.\n",
        "---"
      ],
      "id": "zpf_deH70IHH"
    },
    {
      "cell_type": "code",
      "metadata": {
        "id": "MirumxOb0IEX"
      },
      "source": [
        "# 여기에 답안코드를 작성하세요\n",
        "import matplotlib.pyplot as plt\n",
        "\n",
        "plt.plot(history.history['loss'])\n",
        "plt.plot(history.history['val_loss'])\n",
        "plt.title('Loss')\n",
        "plt.xlabel('epochs')\n",
        "plt.ylabel('MSE')\n",
        "plt.legend(['train_loss', 'val_loss'])\n",
        "plt.show()"
      ],
      "id": "MirumxOb0IEX",
      "execution_count": null,
      "outputs": []
    },
    {
      "cell_type": "code",
      "metadata": {
        "id": "O2pC3-wF0IBX"
      },
      "source": [
        ""
      ],
      "id": "O2pC3-wF0IBX",
      "execution_count": null,
      "outputs": []
    },
    {
      "cell_type": "code",
      "metadata": {
        "id": "XUC_oVuV0H8B"
      },
      "source": [
        ""
      ],
      "id": "XUC_oVuV0H8B",
      "execution_count": null,
      "outputs": []
    },
    {
      "cell_type": "code",
      "metadata": {
        "id": "v0du7_2D0H45"
      },
      "source": [
        ""
      ],
      "id": "v0du7_2D0H45",
      "execution_count": null,
      "outputs": []
    }
  ]
}
