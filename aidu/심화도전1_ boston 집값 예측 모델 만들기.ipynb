{
  "nbformat": 4,
  "nbformat_minor": 5,
  "metadata": {
    "colab": {
      "name": "심화도전1_ boston 집값 예측 모델 만들기.ipynb",
      "provenance": [],
      "include_colab_link": true
    },
    "language_info": {
      "name": "python"
    },
    "kernelspec": {
      "name": "python3",
      "display_name": "Python 3"
    }
  },
  "cells": [
    {
      "cell_type": "markdown",
      "metadata": {
        "id": "view-in-github",
        "colab_type": "text"
      },
      "source": [
        "<a href=\"https://colab.research.google.com/github/dantae74/tensorflow/blob/main/aidu/%EC%8B%AC%ED%99%94%EB%8F%84%EC%A0%841_%20boston%20%EC%A7%91%EA%B0%92%20%EC%98%88%EC%B8%A1%20%EB%AA%A8%EB%8D%B8%20%EB%A7%8C%EB%93%A4%EA%B8%B0.ipynb\" target=\"_parent\"><img src=\"https://colab.research.google.com/assets/colab-badge.svg\" alt=\"Open In Colab\"/></a>"
      ]
    },
    {
      "cell_type": "markdown",
      "metadata": {
        "id": "WfgQSbgOoe-2"
      },
      "source": [
        "**심화도전1**\n",
        "### **boston house prices 데이터를 이용한 <span style=\"color:darkgreen\"> AI 예측</span>문제 **\n",
        "---"
      ],
      "id": "WfgQSbgOoe-2"
    },
    {
      "cell_type": "markdown",
      "metadata": {
        "id": "Pct2ZVvCkxiB"
      },
      "source": [
        "#### Boston의 지역특성과 가격 데이터를 이용하여 , Boston 집값을 예측하는 AI문제입니다. \n",
        "#### AI코딩 단계에 따라 주어지는 문제를 읽고 답안을 작성하세요.\n",
        "#### (boston house prices 데이터 : sklearn 내장 연습용 데이터셋 사용)\n",
        "\n",
        " - 데이터 : 회귀(수치)\n",
        " - 모델 : 다중 회귀 분석 심화(선형, lidge, Lasso, elastic,), DeepLearning\n",
        " - 주요 전처리 : 분석 Column 추가, 표준화(standardization), min-max Scaling\n",
        " - 주요 학습 내용 : 다중 회귀 분석 심화 내용, 회귀 예측 모델 생성(input, output 처리, 손실함수 등)\n",
        "---"
      ],
      "id": "Pct2ZVvCkxiB"
    },
    {
      "cell_type": "markdown",
      "metadata": {
        "id": "dZVsG-XZlCqE"
      },
      "source": [
        "**boston house prices 데이터 컬럼 설명 (sklearn 내장 연습용 데이터셋)**\n",
        "- CRIM : 자치시(town)별 1인당 범죄율\n",
        "- ZN : 25,000 평방피트를 초과하는 거주지역의 비율\n",
        "- INDUS : 비소매상업지역이 점유하고 있는 토지의 비율\n",
        "- CHAS : 찰스강 근처는 1, 그렇지 않으면 0\n",
        "- NOX : 10ppm당 일산화질소 농도\n",
        "- RM : 주택 1가구당 평균 방의 개수\n",
        "- AGE : 1940년 이전에 건축된 소유주택의 비율\n",
        "- DIS : 5개의 보스턴 직업센터까지의 접근성 지수\n",
        "- RAD : 방사형 도로까지의 접근성 지수\n",
        "- TAX : 10,000달러 당 재산 새율\n",
        "- PTRATIO : 자치시(town)별 학생/교사 비율\n",
        "- B : 1000(Bk-0.63)^2, Bk는 자치시별 흑인의 비율\n",
        "- LSTAT : 모집단의 하위계층 비율\n",
        "- MEDV : 집주인이 실제 거주하는 집들의 주택가격 중앙값 (단위 $1,000)"
      ],
      "id": "dZVsG-XZlCqE"
    },
    {
      "cell_type": "markdown",
      "metadata": {
        "id": "Bmeh-n8ZlF5n"
      },
      "source": [
        "> **<span style=\"color:red\">다음 문항을 풀기 전에 </span>아래 코드를 실행하시오.**<br>\n",
        "> **sklearn에서 제공하는 load_breast_cacncer에 대한 데이터를 불러올 예정입니다. <span style=\"color:darkgreen\"></span>**<br>\n",
        "> - 해당 형태로 불러온 데이터는 AIDU 환경변수와 상관없이 사용할수 있습니다.<br>\n",
        "> - 분석할 feautre 데이터는 x 변수에, 라벨은 y변수에 저장 되게 됩니다.(사전 x,y 데이터 분리 실행)\n",
        "\n",
        "\n",
        "---\n"
      ],
      "id": "Bmeh-n8ZlF5n"
    },
    {
      "cell_type": "code",
      "metadata": {
        "id": "e9JXMIgxl7sk"
      },
      "source": [
        "from sklearn.datasets import load_boston\n",
        "boston = load_boston()\n",
        "x = boston.data # 인풋으로 사용할 데이터\n",
        "y = boston.target # 아웃풋, target으로 사용할 데이터\n",
        "col_names = boston.feature_names # 인풋으로 사용할 데이터의 컬럼별 이름들"
      ],
      "id": "e9JXMIgxl7sk",
      "execution_count": null,
      "outputs": []
    },
    {
      "cell_type": "markdown",
      "metadata": {
        "id": "BYY6CsHzl8bM"
      },
      "source": [
        "### **Q1. Pandas를 pd로 alias하여 사용할 수 있도록 불러오는 코드를 작성하고 실행하시기 바랍니다.**\n",
        "---"
      ],
      "id": "BYY6CsHzl8bM"
    },
    {
      "cell_type": "code",
      "metadata": {
        "id": "IeUNOVYil8zE"
      },
      "source": [
        "# 여기에 답안코드를 작성하세요\n",
        "import pandas as pd"
      ],
      "id": "IeUNOVYil8zE",
      "execution_count": null,
      "outputs": []
    },
    {
      "cell_type": "markdown",
      "metadata": {
        "id": "RxpgwRv5l88R"
      },
      "source": [
        "### **Q2. Numpy를 np로 alias하여 사용할 수 있도록 불러오는 코드를 작성하고 실행하시기 바랍니다.**\n",
        "---"
      ],
      "id": "RxpgwRv5l88R"
    },
    {
      "cell_type": "code",
      "metadata": {
        "id": "gwFm7TgZl9Eh"
      },
      "source": [
        "# 여기에 답안코드를 작성하세요\n",
        "import numpy as np"
      ],
      "id": "gwFm7TgZl9Eh",
      "execution_count": null,
      "outputs": []
    },
    {
      "cell_type": "markdown",
      "metadata": {
        "id": "o6S0Ejtfl9MZ"
      },
      "source": [
        "### **Q3. 인풋데이터(x)와 인풋데이터 컬럼명(col_names)를 이용하여 인풋데이터의 dataframe을 제작하시기 바랍니다.**\n",
        "* **\n",
        "- 데이터 프레임의 변수 명은 bhp 로 한다.\n",
        "---"
      ],
      "id": "o6S0Ejtfl9MZ"
    },
    {
      "cell_type": "code",
      "metadata": {
        "id": "sd1nqQLHl9Uh"
      },
      "source": [
        "# 여기에 답안코드를 작성하세요\n",
        "bhp = pd.DataFrame(x, columns=col_names)\n",
        "bhp.head(5)"
      ],
      "id": "sd1nqQLHl9Uh",
      "execution_count": null,
      "outputs": []
    },
    {
      "cell_type": "markdown",
      "metadata": {
        "id": "lJrGgAtJN15U"
      },
      "source": [
        "### **Q4. 데이터 프레임 bhp에 새로운 컬럼 MEDV를 제작하시기 바랍니다.**\n",
        "* **\n",
        "- 컬럼의 값은 y를 사용한다. (주택 가격)\n",
        "---"
      ],
      "id": "lJrGgAtJN15U"
    },
    {
      "cell_type": "code",
      "metadata": {
        "id": "gVqsA-jiN4It"
      },
      "source": [
        "# 여기에 답안코드를 작성하세요\n",
        "bhp['MEDV'] = y\n",
        "bhp.head(5)"
      ],
      "id": "gVqsA-jiN4It",
      "execution_count": null,
      "outputs": []
    },
    {
      "cell_type": "markdown",
      "metadata": {
        "id": "foAgk4IaN50Z"
      },
      "source": [
        "### **Q5. 데이터를 트레이닝셋 / 테스트셋으로 분할하시기 바랍니다.**\n",
        "* **\n",
        "- x와 y를 이용해도 좋지만, 데이터 프레임 bhp를 이용하여 분할하면 이후 코드가 편리해진다.\n",
        "- train : test = 8.5 : 1.5\n",
        "- 컬럼 CHAS 를 이용하여 stratify 하게 분할한다.\n",
        "- 변수명 규칙은 다음과 같다.\n",
        "    * x_train, y_train\n",
        "    * x_test, y_test\n",
        "- random state, seed 등은 2021로 설정한다.\n",
        "\n",
        "---"
      ],
      "id": "foAgk4IaN50Z"
    },
    {
      "cell_type": "code",
      "metadata": {
        "id": "Ghk7DPlEN-2B"
      },
      "source": [
        "# 여기에 답안코드를 작성하세요\n",
        "from sklearn.model_selection import train_test_split\n",
        "\n",
        "x_data = bhp.drop('MEDV', axis=1)\n",
        "y_data = bhp[['MEDV']]\n",
        "\n",
        "x_train, x_test, y_train, y_test = train_test_split(x_data, y_data, \n",
        "                                                  test_size=0.15, random_state=2021, stratify = bhp['CHAS'])\n",
        "\n",
        "print(x_train.shape, x_test.shape)"
      ],
      "id": "Ghk7DPlEN-2B",
      "execution_count": null,
      "outputs": []
    },
    {
      "cell_type": "markdown",
      "metadata": {
        "id": "rXN_NvZ-OA0p"
      },
      "source": [
        "### **Q6. 트레이닝셋을 트레이닝셋 / 벨리데이션셋으로 분할하시기 바랍니다.**\n",
        "* **\n",
        "- x_train과 y_train을 이용한다.\n",
        "- train : valid = 7 : 1.5\n",
        "- x_train의 컬럼 CHAS 를 이용하여 stratify 하게 분할한다.\n",
        "- 변수명 규칙은 다음과 같다.\n",
        "    * x_train, y_train\n",
        "    * x_valid, y_valid\n",
        "- random state, seed 등은 2021로 설정한다.\n",
        "\n",
        "---"
      ],
      "id": "rXN_NvZ-OA0p"
    },
    {
      "cell_type": "code",
      "metadata": {
        "id": "nvJdbTs-OEzJ"
      },
      "source": [
        "# 여기에 답안코드를 작성하세요\n",
        "\n",
        "x_train, x_valid, y_train, y_valid = train_test_split(x_train, y_train, test_size=15/(70+15), \n",
        "                                                      random_state=2021, stratify = x_train['CHAS'])\n",
        "\n",
        "print(x_train.shape, x_valid.shape)"
      ],
      "id": "nvJdbTs-OEzJ",
      "execution_count": null,
      "outputs": []
    },
    {
      "cell_type": "markdown",
      "metadata": {
        "id": "hdZCoBVWOHRb"
      },
      "source": [
        "### **Q7. 데이터의 NOX와 RM은 민맥스(min-max) 스케일링 하시기 바랍니다.**\n",
        "* **\n",
        "- 모든 스케일링 규칙은 트레이닝 셋을 이용하여 정한다.\n",
        "- 트레이닝셋, 벨리데이션셋, 테스트셋 전부 스케일링 한다.\n",
        "---"
      ],
      "id": "hdZCoBVWOHRb"
    },
    {
      "cell_type": "code",
      "metadata": {
        "id": "gdLt3PldOKQk"
      },
      "source": [
        "# 여기에 답안코드를 작성하세요\n",
        "from sklearn.preprocessing import MinMaxScaler\n",
        "\n",
        "scaler = MinMaxScaler()\n",
        "\n",
        "x_train[['NOX', 'RM']] = scaler.fit_transform(x_train[['NOX', 'RM']])\n",
        "x_valid[['NOX', 'RM']] = scaler.transform(x_valid[['NOX', 'RM']])\n",
        "x_test[['NOX', 'RM']] = scaler.transform(x_test[['NOX', 'RM']])"
      ],
      "id": "gdLt3PldOKQk",
      "execution_count": null,
      "outputs": []
    },
    {
      "cell_type": "code",
      "metadata": {
        "id": "U-KCsCrxOMgi"
      },
      "source": [
        "x_test[['NOX', 'RM']].head(5)"
      ],
      "id": "U-KCsCrxOMgi",
      "execution_count": null,
      "outputs": []
    },
    {
      "cell_type": "markdown",
      "metadata": {
        "id": "row4c9qiOPzM"
      },
      "source": [
        "### **Q8. 데이터의 RAD와 B는 표준화(standardization) 스케일링 하시기 바랍니다.**\n",
        "* **\n",
        "- 모든 스케일링 규칙은 트레이닝 셋을 이용하여 정한다.\n",
        "- 트레이닝셋, 벨리데이션셋, 테스트셋 전부 스케일링 한다.\n",
        "---"
      ],
      "id": "row4c9qiOPzM"
    },
    {
      "cell_type": "code",
      "metadata": {
        "id": "_QJ21xXiOSRS"
      },
      "source": [
        "# 여기에 답안코드를 작성하세요\n",
        "\n",
        "from sklearn.preprocessing import StandardScaler\n",
        "\n",
        "std_scaler = StandardScaler()\n",
        "\n",
        "x_train[['RAD','B']] = std_scaler.fit_transform(x_train[['RAD','B']])\n",
        "x_valid[['RAD','B']] = std_scaler.transform(x_valid[['RAD','B']])\n",
        "x_test[['RAD','B']] = std_scaler.transform(x_test[['RAD','B']])\n",
        "\n",
        "x_train[['RAD','B']].head(5)"
      ],
      "id": "_QJ21xXiOSRS",
      "execution_count": null,
      "outputs": []
    },
    {
      "cell_type": "markdown",
      "metadata": {
        "id": "QMgSiQFOOWKW"
      },
      "source": [
        "### **Q9. 트레이닝 셋을 이용하여 선형회귀 모델을 학습시키시기 바랍니다.**\n",
        "* **\n",
        "- linear regression의 normal equation으로 coefficient들을 추정한다.\n",
        "- 학습된 모델은 lr 에 선언해둔다.\n",
        "---"
      ],
      "id": "QMgSiQFOOWKW"
    },
    {
      "cell_type": "code",
      "metadata": {
        "id": "WllJ36AXOZ34"
      },
      "source": [
        "# 여기에 답안코드를 작성하세요\n",
        "from sklearn.linear_model import LinearRegression\n",
        "\n",
        "lr = LinearRegression()\n",
        "lr.fit(x_train, y_train)"
      ],
      "id": "WllJ36AXOZ34",
      "execution_count": null,
      "outputs": []
    },
    {
      "cell_type": "markdown",
      "metadata": {
        "id": "HOzvDtU8Oc1Q"
      },
      "source": [
        "### **Q10. 트레이닝 셋을 이용하여 ridge regression 모델을 학습시키시기 바랍니다.**\n",
        "* **\n",
        "- regularization term의 penalty intensity 는 5로 설정한다.\n",
        "- 학습된 모델은 ridge 에 선언해둔다.\n",
        "---"
      ],
      "id": "HOzvDtU8Oc1Q"
    },
    {
      "cell_type": "code",
      "metadata": {
        "id": "DIIdUlqsOfin"
      },
      "source": [
        "# 여기에 답안코드를 작성하세요\n",
        "from sklearn.linear_model import Ridge\n",
        "\n",
        "ridge = Ridge(5)\n",
        "ridge.fit(x_train, y_train)"
      ],
      "id": "DIIdUlqsOfin",
      "execution_count": null,
      "outputs": []
    },
    {
      "cell_type": "markdown",
      "metadata": {
        "id": "UtGysvDJOhsI"
      },
      "source": [
        "### **Q11. 트레이닝 셋을 이용하여 lasso regression 모델을 학습시키시기 바랍니다.**\n",
        "* **\n",
        "- regularization term의 penalty intensity 는 1로 설정한다.\n",
        "- 학습된 모델은 lasso 에 선언해둔다.\n",
        "---"
      ],
      "id": "UtGysvDJOhsI"
    },
    {
      "cell_type": "code",
      "metadata": {
        "id": "q0Q6TCbvOkKP"
      },
      "source": [
        "# 여기에 답안코드를 작성하세요\n",
        "from sklearn.linear_model import Lasso\n",
        "\n",
        "lasso = Lasso(1)\n",
        "lasso.fit(x_train, y_train)"
      ],
      "id": "q0Q6TCbvOkKP",
      "execution_count": null,
      "outputs": []
    },
    {
      "cell_type": "markdown",
      "metadata": {
        "id": "Rao5rIkXOm5y"
      },
      "source": [
        "### **Q12. 트레이닝 셋을 이용하여 elastic net regression 모델을 학습시키시기 바랍니다.**\n",
        "* **\n",
        "- regularization term의 penalty intensity는 아래와 같이 설정한다\n",
        "    * l1 penalty intensity : 0.5\n",
        "    * l2 penalty intensity : 3 \n",
        "- 학습된 모델은 elastic 에 선언해둔다.\n",
        "---"
      ],
      "id": "Rao5rIkXOm5y"
    },
    {
      "cell_type": "code",
      "metadata": {
        "id": "5ZQgMzNkOplZ"
      },
      "source": [
        "# 여기에 답안코드를 작성하세요\n",
        "from sklearn.linear_model import ElasticNet\n",
        "\n",
        "elastic = ElasticNet(alpha=3.5, l1_ratio=(0.5/3.5))\n",
        "elastic.fit(x_train, y_train)"
      ],
      "id": "5ZQgMzNkOplZ",
      "execution_count": null,
      "outputs": []
    },
    {
      "cell_type": "markdown",
      "metadata": {
        "id": "v2Wof7PgOtg3"
      },
      "source": [
        "### **Q13. 벨리데이션 셋을 이용하여 학습된 네 모델의 성능을 출력하시기 바랍니다.**\n",
        "* **\n",
        "- 평가를 위한 손실함수는 rmse를 이용한다.\n",
        "---"
      ],
      "id": "v2Wof7PgOtg3"
    },
    {
      "cell_type": "code",
      "metadata": {
        "id": "Lrw46xmpOwEo"
      },
      "source": [
        "# 여기에 답안코드를 작성하세요\n",
        "from sklearn.metrics import mean_squared_error\n",
        "\n",
        "model_names = ['LinearRegression', 'Ridge', 'Lasso', 'ElasticNet']\n",
        "models = [lr, ridge, lasso, elastic]\n",
        "\n",
        "for name, model in zip(model_names, models):\n",
        "    rmse = mean_squared_error(y_valid, model.predict(x_valid)) ** 0.5\n",
        "    print(f\"{name} RMSE with valid data set : {rmse:.2f}\")"
      ],
      "id": "Lrw46xmpOwEo",
      "execution_count": null,
      "outputs": []
    },
    {
      "cell_type": "markdown",
      "metadata": {
        "id": "SOLNpqK6OzIp"
      },
      "source": [
        "### **Q14. 테스트 셋을 이용하여 학습된 네 모델의 성능을 출력하시기 바랍니다.**\n",
        "* **\n",
        "- 손실함수는 mean absolute error를 이용한다.\n",
        "---"
      ],
      "id": "SOLNpqK6OzIp"
    },
    {
      "cell_type": "code",
      "metadata": {
        "id": "Av6OC2mgO2HB"
      },
      "source": [
        "# 여기에 답안코드를 작성하세요\n",
        "from sklearn.metrics import mean_absolute_error\n",
        "\n",
        "model_names = ['LinearRegression', 'Ridge', 'Lasso', 'ElasticNet']\n",
        "models = [lr, ridge, lasso, elastic]\n",
        "\n",
        "for name, model in zip(model_names, models):\n",
        "    mse = mean_absolute_error(y_test, model.predict(x_test))\n",
        "    print(f\"{name} MAE with test data set : {mse:.2f}\")"
      ],
      "id": "Av6OC2mgO2HB",
      "execution_count": null,
      "outputs": []
    },
    {
      "cell_type": "markdown",
      "metadata": {
        "id": "k7b3J8GnO4_W"
      },
      "source": [
        "### **Q15. 테스트 셋에서 CHAS가 1일 때, 학습된 네 모델의 성능을 출력하시기 바랍니다.**\n",
        "* **\n",
        "- 손실함수는 mean absolute error를 이용한다.\n",
        "---"
      ],
      "id": "k7b3J8GnO4_W"
    },
    {
      "cell_type": "code",
      "metadata": {
        "id": "NUmKb3KtO8LB"
      },
      "source": [
        "# 여기에 답안코드를 작성하세요\n",
        "\n",
        "x_test_with_chas1 = x_test[x_test['CHAS']==1.0]\n",
        "y_test_with_chas1 = y_test[x_test['CHAS']==1.0]\n",
        "\n",
        "for name, model in zip(model_names, models):\n",
        "    mse = mean_absolute_error(y_test_with_chas1, model.predict(x_test_with_chas1))\n",
        "    print(f\"{name} MSE with test data with chas 1 : {mse:.2f}\")\n"
      ],
      "id": "NUmKb3KtO8LB",
      "execution_count": null,
      "outputs": []
    },
    {
      "cell_type": "markdown",
      "metadata": {
        "id": "5UzPbjjqO_ke"
      },
      "source": [
        "> **<span style=\"color:red\">다음 문항을unique 전에 </span>아래 코드를 실행하시기 바랍니다.**\n",
        ">"
      ],
      "id": "5UzPbjjqO_ke"
    },
    {
      "cell_type": "code",
      "metadata": {
        "id": "YaGNb3qHPCXH"
      },
      "source": [
        "import tensorflow as tf\n",
        "from tensorflow import keras\n",
        "from tensorflow.keras.layers import Input, Dense, BatchNormalization\n",
        "from tensorflow.keras.models import Sequential, Model\n",
        "from tensorflow.keras.callbacks import ModelCheckpoint"
      ],
      "id": "YaGNb3qHPCXH",
      "execution_count": null,
      "outputs": []
    },
    {
      "cell_type": "markdown",
      "metadata": {
        "id": "yBh2gqZ7PD14"
      },
      "source": [
        "### **Q16. 아래 조건에 맞추어 뉴럴네트워크 모델을 학습시키시기 바랍니다.**\n",
        "* **\n",
        "- Tensorflow framework를 사용한다.\n",
        "- 히든레이어는 아래와 같은 규칙에 맞추어 구성합니다.\n",
        "    * 2개 이상의 fully connected layer를 사용할 것\n",
        "    * FC layer뒤에는 batch normalization을 진행한다.\n",
        "- ModelCheckpoint 콜백으로 validation performance가 좋은 모델을 best_model.h5 파일로 저장한다.\n",
        "- 학습과정의 로그를 history에 선언하여 남긴다.\n",
        "- epochs는 200번을 진행한다.\n",
        "---"
      ],
      "id": "yBh2gqZ7PD14"
    },
    {
      "cell_type": "code",
      "metadata": {
        "id": "uFNnVSKdPHLL"
      },
      "source": [
        "# 여기에 답안코드를 작성하세요\n",
        "\n",
        "keras.backend.clear_session()\n",
        "\n",
        "model = Sequential()\n",
        "model.add(Dense(32, activation='relu', input_shape=(13,)))\n",
        "model.add(BatchNormalization())\n",
        "model.add(Dense(32, activation='relu' ))\n",
        "model.add(BatchNormalization())\n",
        "model.add(Dense(1, activation='relu'))\n",
        "\n",
        "# model.compile(optimizer='adam',\n",
        "#               loss='mse',\n",
        "#               metrics=['accuracy'])\n",
        "\n",
        "model.compile(optimizer=tf.keras.optimizers.RMSprop(0.001),\n",
        "              loss='mse',\n",
        "              metrics=['accuracy'])\n",
        "\n",
        "checkpoint_callback = ModelCheckpoint(filepath='./best_model.h5',\n",
        "                                     monitor='val_loss',\n",
        "                                     mode='min',\n",
        "                                     save_best_only=True)\n",
        "\n",
        "history = model.fit(x_train, y_train, epochs=200, batch_size=32,verbose=1, shuffle=True,\n",
        "                    validation_data=(x_valid, y_valid), callbacks=[checkpoint_callback])"
      ],
      "id": "uFNnVSKdPHLL",
      "execution_count": null,
      "outputs": []
    },
    {
      "cell_type": "markdown",
      "metadata": {
        "id": "dMcXOj8EPLD5"
      },
      "source": [
        "### **Q17. 다음 조건에 맞추어 뉴럴네트워크의 학습 로그를 시각화 하시기 바랍니다.**\n",
        "* **\n",
        "- 필요한 라이브러리가 있다면 따로 불러온다.\n",
        "- epochs에 따른 loss의 변화를 시각화 한다.\n",
        "- train loss와 validation loss를 전부 시각화하고, 구별가능해야 한다.\n",
        "- 그래프의 타이틀은 'Loss'로 표시한다.\n",
        "- x축에는 'epochs'라고 표시하고 y축에는 'MSE'라고 표시한다.\n",
        "---"
      ],
      "id": "dMcXOj8EPLD5"
    },
    {
      "cell_type": "code",
      "metadata": {
        "id": "jFZUGXK8PO_u"
      },
      "source": [
        "# 여기에 답안코드를 작성하세요\n",
        "\n",
        "import matplotlib.pyplot as plt\n",
        "\n",
        "plt.figure(figsize=(8,6))\n",
        "plt.plot(history.history['loss'])\n",
        "plt.plot(history.history['val_loss'])\n",
        "plt.title('Loss')\n",
        "plt.xlabel('epochs')\n",
        "plt.ylabel('Loss')\n",
        "plt.legend(['train_loss', 'val_loss'])\n",
        "plt.show()"
      ],
      "id": "jFZUGXK8PO_u",
      "execution_count": null,
      "outputs": []
    },
    {
      "cell_type": "code",
      "metadata": {
        "id": "leE8rydpPQtm"
      },
      "source": [
        ""
      ],
      "id": "leE8rydpPQtm",
      "execution_count": null,
      "outputs": []
    }
  ]
}
