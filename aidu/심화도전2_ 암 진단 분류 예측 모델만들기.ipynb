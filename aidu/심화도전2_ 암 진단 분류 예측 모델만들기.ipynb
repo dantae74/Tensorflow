{
  "nbformat": 4,
  "nbformat_minor": 5,
  "metadata": {
    "colab": {
      "name": "심화도전1_ boston 집값 예측 모델 만들기.ipynb",
      "provenance": [],
      "include_colab_link": true
    },
    "language_info": {
      "name": "python"
    },
    "kernelspec": {
      "name": "python3",
      "display_name": "Python 3"
    }
  },
  "cells": [
    {
      "cell_type": "markdown",
      "metadata": {
        "id": "view-in-github",
        "colab_type": "text"
      },
      "source": [
        "<a href=\"https://colab.research.google.com/github/dantae74/tensorflow/blob/main/aidu/%EC%8B%AC%ED%99%94%EB%8F%84%EC%A0%842_%20%EC%95%94%20%EC%A7%84%EB%8B%A8%20%EB%B6%84%EB%A5%98%20%EC%98%88%EC%B8%A1%20%EB%AA%A8%EB%8D%B8%EB%A7%8C%EB%93%A4%EA%B8%B0.ipynb\" target=\"_parent\"><img src=\"https://colab.research.google.com/assets/colab-badge.svg\" alt=\"Open In Colab\"/></a>"
      ]
    },
    {
      "cell_type": "markdown",
      "metadata": {
        "id": "WfgQSbgOoe-2"
      },
      "source": [
        "**심화도전2**\n",
        "### **Breast cancer wisconsin 데이터를 이용한 <span style=\"color:darkgreen\">AI분류</span> 문제**\n",
        "---"
      ],
      "id": "WfgQSbgOoe-2"
    },
    {
      "cell_type": "markdown",
      "metadata": {
        "id": "Ju0QxLF6Pu0E"
      },
      "source": [
        "#### 암세포의 형태 데이터를 이용하여 암 진단 판정을 악성과 양성으로 분류하는 AI문제입니다. \n",
        "#### AI코딩 단계에 따라 주어지는 문제를 읽고 답안을 작성하세요.\n",
        "#### ( Breast cancer wisconsin 데이터 : sklearn 내장 연습용 데이터셋 사용)\n",
        "\n",
        " - 데이터 : 분류(카테고리)\n",
        " - 모델 : KNN(머신러닝 모델 비교 분석), DeepLearning\n",
        " - 주요 전처리 : 분석 Column 추가, 표준화(standardization)\n",
        " - 주요 학습 내용 : 이중 분류 모델 생성(binary 분류, input, output 처리, 손실함수 등), 머신러닝 모델 비교학습(리스트 활용)\n",
        "---\n",
        "\n",
        "**아래 측정값들을, 평균(mean), 표준오차(error), 제일 큰 값 3개의 평균(worst)으로 나타낸다. 예를 들어 radius는 mean radius, radius error, worst radius 3개 컬럼으로 나타난다.**<br>\n",
        "\n",
        "- radius : 암세포의 반지름\n",
        "- texture : 질감\n",
        "- perimeter : 둘레\n",
        "- area : 면적\n",
        "- smoothness : 매끄러움\n",
        "- concavity : 오목함\n",
        "- concave points : 오목한 곳의 수\n",
        "- symmetry : 대칭성\n",
        "- fractal dimension : 프렉탈 차원\n",
        "- class : 라벨(y변수) 데이터로 세포의 양성/악성 여부를 binary로 표기한 데이터\n",
        "    * 0 : malignant : 악성\n",
        "    * 1 : benign : 양성\n"
      ],
      "id": "Ju0QxLF6Pu0E"
    },
    {
      "cell_type": "markdown",
      "metadata": {
        "id": "jpuqwa_IPyea"
      },
      "source": [
        "---\n",
        "> **<span style=\"color:red\">다음 문항을 풀기 전에 </span>아래 코드를 실행하시오.**<br>\n",
        "> **sklearn에서 제공하는 load_breast_cacncer에 대한 데이터를 불러올 예정입니다. <span style=\"color:darkgreen\"></span>**<br>\n",
        "> ** 해당 형태로 불러온 데이터는 AIDU 환경변수와 상관없이 사용할수 있습니다.<br>\n",
        "> 분석할 feautre 데이터는 x 변수에, 라벨은 y변수에 저장 되게 됩니다.(사전 x,y 데이터 분리 실행)\n",
        "> y변수는 상기 서술된 컬럼 중 class 항목입니다.\n",
        "\n",
        "\n",
        "---\n",
        "\n"
      ],
      "id": "jpuqwa_IPyea"
    },
    {
      "cell_type": "code",
      "metadata": {
        "id": "3WSaGPLNP34Z"
      },
      "source": [
        "\n",
        "from sklearn.datasets import load_breast_cancer\n",
        "cancer = load_breast_cancer()\n",
        "x = cancer.data # 인풋으로 사용할 데이터\n",
        "y = cancer.target # 아웃풋, target으로 사용할 데이터\n",
        "col_names = cancer.feature_names # 인풋으로 사용할 데이터의 컬럼별 이름들\n",
        "target_names = cancer.target_names # 아웃풋, target으로 사용할 데이터의 클래스 이름"
      ],
      "id": "3WSaGPLNP34Z",
      "execution_count": null,
      "outputs": []
    },
    {
      "cell_type": "code",
      "metadata": {
        "id": "BHXHNm-5P5yC"
      },
      "source": [
        "# 여기에 답안코드를 작성하세요\n",
        "import pandas as pd\n",
        "import matplotlib.pyplot as plt"
      ],
      "id": "BHXHNm-5P5yC",
      "execution_count": null,
      "outputs": []
    },
    {
      "cell_type": "markdown",
      "metadata": {
        "id": "zH4wPRZ2QEHY"
      },
      "source": [
        "### **Q3. 인풋데이터(x)와 인풋데이터 컬럼명(col_names)를 이용하여 인풋데이터의 dataframe을 제작하시기 바랍니다.**\n",
        "* **\n",
        "- 데이터 프레임의 변수 명은 bcc 로 한다.\n",
        "---"
      ],
      "id": "zH4wPRZ2QEHY"
    },
    {
      "cell_type": "code",
      "metadata": {
        "id": "KLikanjtQHpI"
      },
      "source": [
        "# 여기에 답안코드를 작성하세요\n",
        "\n",
        "bcc = pd.DataFrame(x, columns=col_names)\n",
        "bcc.head(5)"
      ],
      "id": "KLikanjtQHpI",
      "execution_count": null,
      "outputs": []
    },
    {
      "cell_type": "markdown",
      "metadata": {
        "id": "QgpaY8ikQJVY"
      },
      "source": [
        "### **Q4. 데이터를 트레이닝셋 / 테스트셋으로 분할하시기 바랍니다.**\n",
        "* **\n",
        "- bcc와, y를 이용한다. ( x를 사용해도 좋지만, 이후 문제를 위해 bcc를 이용한다.)\n",
        "- train : test = 8.5 : 1.5\n",
        "- y의 클래스가 골고루 분할되도록 stratify하게 분할한다.\n",
        "- 변수명 규칙은 다음과 같다.\n",
        "    * x_train, y_train\n",
        "    * x_test, y_test\n",
        "- random state, seed 등은 2021로 설정한다.\n",
        "---"
      ],
      "id": "QgpaY8ikQJVY"
    },
    {
      "cell_type": "code",
      "metadata": {
        "id": "UBkUW_hMQNAH"
      },
      "source": [
        "# 여기에 답안코드를 작성하세요\n",
        "from sklearn.model_selection import train_test_split\n",
        "\n",
        "x_train, x_test, y_train, y_test = train_test_split(bcc, y, \n",
        "                                                  test_size=0.15, random_state=2021, stratify = y)\n",
        "x_train.shape"
      ],
      "id": "UBkUW_hMQNAH",
      "execution_count": null,
      "outputs": []
    },
    {
      "cell_type": "markdown",
      "metadata": {
        "id": "EU8Pl76FQQE5"
      },
      "source": [
        "### **Q5. 트레이닝 데이터를 트레이닝셋 / 벨리데이션셋으로 분할하시기 바랍니다.**\n",
        "* **\n",
        "- x_train, y_train을 이용한다.\n",
        "- train : validation = 7 : 3\n",
        "- y_train의 클래스가 골고루 분할되도록 stratify하게 분할한다.\n",
        "- 변수명 규칙은 다음과 같다.\n",
        "    * x_train, y_train\n",
        "    * y_valid, y_valid\n",
        "- random state, seed 등은 2021로 설정한다.\n",
        "---"
      ],
      "id": "EU8Pl76FQQE5"
    },
    {
      "cell_type": "code",
      "metadata": {
        "id": "1ltvSixjQSys"
      },
      "source": [
        "# 여기에 답안코드를 작성하세요\n",
        "\n",
        "x_train, x_valid, y_train, y_valid = train_test_split(x_train, y_train, test_size=0.3,\n",
        "                                                     random_state=2021, stratify=y_train)\n",
        "x_train.head()"
      ],
      "id": "1ltvSixjQSys",
      "execution_count": null,
      "outputs": []
    },
    {
      "cell_type": "markdown",
      "metadata": {
        "id": "tMjARjs1QUzv"
      },
      "source": [
        "### **Q6. x_train, x_valid, x_test의 인덱스를 초기화 하시기 바랍니다.**\n",
        "* **\n",
        "- 현재 x들은 전부 dataframe이고, 원본 bcc의 인덱스를 그대로 가지고 있다.\n",
        "- 맨 첫번째 row부터 순서대로 인덱스를 갖도록 한다\n",
        "- 인덱스는 정수 인덱스이며, 0부터 시작한다.\n",
        "---"
      ],
      "id": "tMjARjs1QUzv"
    },
    {
      "cell_type": "code",
      "metadata": {
        "id": "cMiDsyxbQXKn"
      },
      "source": [
        "# 여기에 답안코드를 작성하세요\n",
        "x_train.reset_index(drop=True, inplace=True)\n",
        "x_valid.reset_index(drop=True, inplace=True)\n",
        "x_test.reset_index(drop=True, inplace=True)"
      ],
      "id": "cMiDsyxbQXKn",
      "execution_count": null,
      "outputs": []
    },
    {
      "cell_type": "markdown",
      "metadata": {
        "id": "e_NJtf4CQaG_"
      },
      "source": [
        "### **Q7. x_train, x_valid, x_test의 모든 컬럼을 각각 표준화(standardization) 스케일링 하시기 바랍니다.**\n",
        "* **\n",
        "- **모든 전처리 규칙은 트레이닝셋으로 부터 선정한다.**\n",
        "- 스케일링한 x들은 각각 아래의 변수에 따로 선언해둔다.\n",
        "    * x_train_sc\n",
        "    * x_valid_sc\n",
        "    * x_test_sc\n",
        "---"
      ],
      "id": "e_NJtf4CQaG_"
    },
    {
      "cell_type": "code",
      "metadata": {
        "id": "-zvFWanwQdDb"
      },
      "source": [
        "# 여기에 답안코드를 작성하세요\n",
        "from sklearn.preprocessing import StandardScaler\n",
        "\n",
        "std_scaler = StandardScaler()\n",
        "\n",
        "x_train_sc = std_scaler.fit_transform(x_train)\n",
        "x_valid_sc = std_scaler.transform(x_valid)\n",
        "x_test_sc = std_scaler.transform(x_test)"
      ],
      "id": "-zvFWanwQdDb",
      "execution_count": null,
      "outputs": []
    },
    {
      "cell_type": "markdown",
      "metadata": {
        "id": "_gF0CjnEQfAz"
      },
      "source": [
        "### **Q8. KNN 모델들을 학습시키시기 바랍니다.**\n",
        "* **\n",
        "- 트레이닝 셋 (x_train_sc, y_train)을 이용하여 학습시킨다.\n",
        "- KNN의 이웃수(k)를 2부터 15까지 늘려가며 총 14개의 모델을 학습시킨다.\n",
        "- 학습시킨 트리들은 리스트를 만들어 knns 변수에 담아둔다.\n",
        "- y를 예측할 경우, 이웃들의 거리값은 반영하지 않는다.(weights 파라미터는 uniform을 사용한다.)\n",
        "- 각 모델을 knns 라는 list에 순차적으로 저장하시기 바랍니ㅣ다.\n",
        "---"
      ],
      "id": "_gF0CjnEQfAz"
    },
    {
      "cell_type": "code",
      "metadata": {
        "id": "sRE365YoQiFr"
      },
      "source": [
        "# 여기에 답안코드를 작성하세요\n",
        "from sklearn.neighbors import KNeighborsClassifier\n",
        "\n",
        "knns = []\n",
        "\n",
        "for k in range(2,16):\n",
        "    knns.append(KNeighborsClassifier(n_neighbors=k, weights='uniform').fit(x_train_sc, y_train))\n",
        "    \n",
        "knns[0:5]"
      ],
      "id": "sRE365YoQiFr",
      "execution_count": null,
      "outputs": []
    },
    {
      "cell_type": "markdown",
      "metadata": {
        "id": "ZYyT5N2oQjck"
      },
      "source": [
        "### **Q9. KNN 모델들의 성능을 리스트에 담아 accs에 선언하시기 바랍니다.**\n",
        "* **\n",
        "- k가 2인 knn모델부터 순서대로 평가하여 리스트에 담는다.\n",
        "- 벨리데이션 셋 위에서 성능을 평가한다. (x는 스케일링 된 값이어야 한다.)\n",
        "- 성능지표로는 accuracy를 사용한다.\n",
        "---"
      ],
      "id": "ZYyT5N2oQjck"
    },
    {
      "cell_type": "code",
      "metadata": {
        "id": "rWI6x1vkQnFc"
      },
      "source": [
        "# 여기에 답안코드를 작성하세요\n",
        "from sklearn import metrics\n",
        "\n",
        "# accs = []\n",
        "# for knn in knns:\n",
        "#     accs.append(metrics.accuracy_score(y_valid, knn.predict(x_valid_sc)))\n",
        "\n",
        "accs = []\n",
        "for knn in knns:\n",
        "    accs.append(knn.score(x_valid_sc, y_valid))\n",
        "\n",
        "accs"
      ],
      "id": "rWI6x1vkQnFc",
      "execution_count": null,
      "outputs": []
    },
    {
      "cell_type": "markdown",
      "metadata": {
        "id": "kppyOi6yQoij"
      },
      "source": [
        "### **Q10. KNN모델들의 k(이웃수)에 따른 accuracy를 시각화 하고, 가장 성능이 좋은 k 값을 선택하시기 바랍니다.**\n",
        "* **\n",
        "- 위의 Q9에서 제작한 리스트 accs를 이용한다.\n",
        "- line plot 이나 scatter plot을 이용한다.\n",
        "- 동일 성능의 k가 여러개라면, 가장 작은 k를 선택한다.\n",
        "---"
      ],
      "id": "kppyOi6yQoij"
    },
    {
      "cell_type": "code",
      "metadata": {
        "id": "PmhPLHsLQq5U"
      },
      "source": [
        "# 여기에 답안코드를 작성하세요\n",
        "# 여기에 답안코드를 작성하세요\n",
        "import numpy as np\n",
        "\n",
        "plt.figure(figsize=(8, 6))\n",
        "plt.plot(range(2,16), accs)\n",
        "plt.xticks(range(2,16))\n",
        "plt.xlabel('KNeighbors')\n",
        "plt.ylabel('Accuracy')\n",
        "plt.grid()\n",
        "plt.show()\n",
        "\n",
        "best_idx = np.argmax(accs)\n",
        "best_nkn = best_idx+2\n",
        "print(f'Best KNeighbors : {best_nkn}')\n",
        "best_knn = knns[best_idx]"
      ],
      "id": "PmhPLHsLQq5U",
      "execution_count": null,
      "outputs": []
    },
    {
      "cell_type": "markdown",
      "metadata": {
        "id": "zYCJNf9hQsQz"
      },
      "source": [
        "### **Q11. 선택된 KNN모델의 테스트셋 위에서의 accuracy를 출력하시기 바랍니다.**\n",
        "* **\n",
        "- 성능 확인 시 입력데이터는 스케일링 된 데이터인 x_test_sc를 사용해야 한다.\n",
        "---"
      ],
      "id": "zYCJNf9hQsQz"
    },
    {
      "cell_type": "code",
      "metadata": {
        "id": "kqMemZ3QQvbL"
      },
      "source": [
        "# 여기에 답안코드를 작성하세요\n",
        "\n",
        "acc_bkn = metrics.accuracy_score(y_test, best_knn.predict(x_test_sc))\n",
        "print(f'Accuracy of Best KNN ({best_nkn}-k) : {acc_bkn*100:.2f}%')"
      ],
      "id": "kqMemZ3QQvbL",
      "execution_count": null,
      "outputs": []
    },
    {
      "cell_type": "markdown",
      "metadata": {
        "id": "Te2p3LMDQx5a"
      },
      "source": [
        "### **Q12. 해당 모델의 classificaiton report를 출력하고, malignant의 precision 값을 출력하시오**\n",
        "---\n",
        "  - 테스트셋 위의 성능 평가를 바탕으로 문제를 푼다.\n",
        "  - 성능 확인 시 입력데이터는 스케일링 된 데이터인 x_test_sc를 사용해야 한다.\n",
        "---"
      ],
      "id": "Te2p3LMDQx5a"
    },
    {
      "cell_type": "code",
      "metadata": {
        "id": "MBY7XB8BQ0U5"
      },
      "source": [
        "from sklearn.metrics import classification_report\n",
        "\n",
        "y_pred = best_knn.predict(x_test_sc)\n",
        "report = classification_report(y_test, y_pred, target_names=target_names, output_dict=True)\n",
        "\n",
        "df_report = pd.DataFrame(report).T\n",
        "print(df_report)\n",
        "print(f\"\\nmalignant's precision : {df_report['precision']['malignant']*100}%\")"
      ],
      "id": "MBY7XB8BQ0U5",
      "execution_count": null,
      "outputs": []
    },
    {
      "cell_type": "markdown",
      "metadata": {
        "id": "P3pDNfkXQ2DU"
      },
      "source": [
        "### **Q13. Q8에서 Q11 까지의 학습 과정을 scaling 되지 않은 원본데이터로 학습하여 별도의 모델을 만드시기 바랍니다.**\n",
        "* **\n",
        "- 해당 모델의 classificaiton report를 출력하고, malignant의 precision 값을 출력하시오\n",
        "    - 테스트셋 위의 성능 평가를 바탕으로 문제를 푼다.\n",
        "    - 성능 확인 시 입력데이터는 스케일링 하지 않은 데이터인 x_valid를 사용해야 한다.\n",
        "---"
      ],
      "id": "P3pDNfkXQ2DU"
    },
    {
      "cell_type": "code",
      "metadata": {
        "id": "153mv5JKQ6W4"
      },
      "source": [
        "# 여기에 답안코드를 작성하세요\n",
        "from sklearn.neighbors import KNeighborsClassifier\n",
        "\n",
        "knns2 = []\n",
        "for k in range(2,16):\n",
        "    knns2.append(KNeighborsClassifier(n_neighbors=k, weights='uniform').fit(x_train, y_train))\n",
        "\n",
        "accs2 = []\n",
        "for knn in knns2:\n",
        "    accs2.append(knn.score(x_valid, y_valid))\n",
        "#     accs_ns.append(metrics.accuracy_score(y_valid, knn.predict(x_valid)))\n",
        "    \n",
        "plt.figure(figsize=(8, 6))\n",
        "plt.plot(range(2,16), accs2)\n",
        "plt.xticks(range(2,16))\n",
        "plt.xlabel('KNeighbors')\n",
        "plt.ylabel('Accuracy')\n",
        "plt.grid()\n",
        "plt.show()\n",
        "\n",
        "best_idx = np.argmax(accs2)\n",
        "best_nkn = best_idx+2\n",
        "print(f'Best KNeighbors : {best_nkn}')\n",
        "best_knn2 = knns2[best_idx]\n",
        "\n",
        "y_pred = best_knn2.predict(x_test)\n",
        "print(classification_report(y_test, y_pred, target_names=target_names))\n",
        "\n",
        "report2 = classification_report(y_test, y_pred, target_names=target_names, output_dict=True)\n",
        "df_report2 = pd.DataFrame(report2).T\n",
        "print(f\"\\nmalignant's precision : {df_report2['precision']['malignant']*100:.2f}%\")"
      ],
      "id": "153mv5JKQ6W4",
      "execution_count": null,
      "outputs": []
    },
    {
      "cell_type": "markdown",
      "metadata": {
        "id": "gFgdxLxLQ8Dg"
      },
      "source": [
        "### **Q14. 스케일링하지 않은 데이터의 예측 모델 성능과, 스케일링한 데이터의 예측모델 성능을 출력하여 비교하시기 바랍니다.**\n",
        "* **\n",
        "- 기존 만든 best_knn 모델의 score를 사용하여 성능을 출력할 것\n",
        "- 스케일링한 학습 모델은 데이터 : x_test_sc 활용\n",
        "- 스케일링하지 않은 모델은 데이터 x_test 활용\n",
        "---"
      ],
      "id": "gFgdxLxLQ8Dg"
    },
    {
      "cell_type": "code",
      "metadata": {
        "id": "Qf-TAC50Q_aI"
      },
      "source": [
        "# 여기에 답안코드를 작성하세요\n",
        "\n",
        "# print(metrics.classification_report(y_test, best_knn.predict(x_test_sc)))\n",
        "# print(metrics.classification_report(y_test, best_knn_ns.predict(x_test)))\n",
        "\n",
        "print(f\"Scaling model accuracy : {best_knn.score(x_test_sc, y_test)*100:.2f}%\")\n",
        "print(f\"No scaling model accuracy : {best_knn2.score(x_test, y_test)*100:.2f}%\")"
      ],
      "id": "Qf-TAC50Q_aI",
      "execution_count": null,
      "outputs": []
    },
    {
      "cell_type": "markdown",
      "metadata": {
        "id": "z79offk7RBZ5"
      },
      "source": [
        "> **<span style=\"color:red\">다음 문항을 풀기 전에 </span>아래 코드를 실행하세요.**\n",
        ">"
      ],
      "id": "z79offk7RBZ5"
    },
    {
      "cell_type": "code",
      "metadata": {
        "id": "rswUzsEqREVD"
      },
      "source": [
        "import tensorflow as tf\n",
        "from tensorflow import keras\n",
        "from tensorflow.keras.layers import Input, Dense, Dropout, BatchNormalization\n",
        "from tensorflow.keras.models import Sequential, Model\n",
        "from tensorflow.keras.callbacks import EarlyStopping"
      ],
      "id": "rswUzsEqREVD",
      "execution_count": null,
      "outputs": []
    },
    {
      "cell_type": "markdown",
      "metadata": {
        "id": "QiYDp4frRF0j"
      },
      "source": [
        "### **Q16. 아래 조건에 맞추어 뉴럴네트워크 모델을 학습시키시기 바랍니다**\n",
        "* **\n",
        "- Tensorflow framework를 사용한다.\n",
        "- 히든레이어는 아래와 같은 규칙에 맞추어 구성합니다.\n",
        "    * 3개 이상의 fully connected layer를 사용할 것\n",
        "    * Drop out과 batchnormalization을 각각 한번 이상 사용한다.\n",
        "- Early stopping을 이용하여, validation loss가 10번 이상 개선되지 않으면 학습을 중단 시키고, 가장 성능이 좋았을 때의 가중치를 복구한다.\n",
        "- 학습과정의 로그(loss, accuracy)를 history에 선언하여 남긴다.\n",
        "- y를 별도로 원핫인코딩 하지 않고 분류모델을 학습시킬 수 있도록 한다.\n",
        "- 0,1로 구분된 binary 분류모델에 맞는 loss function인 binary_crossentropy를 사용하도록 한다.\n",
        "- epochs는 2000번을 지정한다.\n",
        "---"
      ],
      "id": "QiYDp4frRF0j"
    },
    {
      "cell_type": "code",
      "metadata": {
        "id": "cjqMh_TzRIZA"
      },
      "source": [
        "# 여기에 답안코드를 작성하세요\n",
        "keras.backend.clear_session()\n",
        "\n",
        "model = Sequential()\n",
        "model.add(Dense(64, activation='relu', input_shape=(30,)))\n",
        "model.add(BatchNormalization())\n",
        "model.add(Dropout(0.4))\n",
        "model.add(Dense(32, activation='relu' ))\n",
        "model.add(BatchNormalization())\n",
        "model.add(Dropout(0.4))\n",
        "model.add(Dense(32, activation='relu' ))\n",
        "model.add(BatchNormalization())\n",
        "model.add(Dropout(0.4))\n",
        "model.add(Dense(1, activation='sigmoid'))\n",
        "\n",
        "model.compile(optimizer='adam',\n",
        "              loss='binary_crossentropy',\n",
        "              metrics=['accuracy'])\n",
        "\n",
        "es = EarlyStopping(monitor='val_loss', min_delta=0, patience=10, verbose=1, restore_best_weights=True)\n",
        "\n",
        "history = model.fit(x_train_sc, y_train, epochs=2000, batch_size=32,verbose=1,\n",
        "                    validation_data=(x_valid_sc, y_valid),callbacks=[es])"
      ],
      "id": "cjqMh_TzRIZA",
      "execution_count": null,
      "outputs": []
    },
    {
      "cell_type": "markdown",
      "metadata": {
        "id": "mnSceVh4RMiw"
      },
      "source": [
        "### **Q17. 다음 조건에 맞추어 뉴럴네트워크의 학습 로그를 시각화 하시오.**\n",
        "* **\n",
        "- 필요한 라이브러리가 있다면 따로 불러온다.\n",
        "- epochs에 따른 accuracy의 변화를 시각화 한다.\n",
        "- train accuracy와 validation accuracy를 전부 시각화하고, 구별가능해야 한다.\n",
        "- 그래프의 타이틀은 'Accuracy'로 표시한다.\n",
        "- x축에는 'epochs'라고 표시하고 y축에는 'accuracy'라고 표시한다.\n",
        "- 위에서 학습한 머신러닝 모델과 성능을 비교해보시오. \n",
        "---"
      ],
      "id": "mnSceVh4RMiw"
    },
    {
      "cell_type": "code",
      "metadata": {
        "id": "mPUELMlmRQfo"
      },
      "source": [
        "# 여기에 답안코드를 작성하세요\n",
        "import matplotlib.pyplot as plt\n",
        "\n",
        "plt.figure(figsize=(8,6))\n",
        "plt.plot(history.history['accuracy'])\n",
        "plt.plot(history.history['val_accuracy'])\n",
        "plt.title('Accuracy')\n",
        "plt.xlabel('epochs')\n",
        "plt.ylabel('accuracy')\n",
        "plt.legend(['train_accuracy', 'val_accuracy'])\n",
        "plt.show()"
      ],
      "id": "mPUELMlmRQfo",
      "execution_count": null,
      "outputs": []
    },
    {
      "cell_type": "code",
      "metadata": {
        "id": "j73URAhgRSF6"
      },
      "source": [
        ""
      ],
      "id": "j73URAhgRSF6",
      "execution_count": null,
      "outputs": []
    }
  ]
}