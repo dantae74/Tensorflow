{
  "nbformat": 4,
  "nbformat_minor": 5,
  "metadata": {
    "colab": {
      "name": "실습4_wine recognition 데이터로 와인종류 구분하기.ipynb",
      "provenance": [],
      "include_colab_link": true
    },
    "language_info": {
      "name": "python"
    },
    "kernelspec": {
      "name": "python3",
      "display_name": "Python 3"
    }
  },
  "cells": [
    {
      "cell_type": "markdown",
      "metadata": {
        "id": "view-in-github",
        "colab_type": "text"
      },
      "source": [
        "<a href=\"https://colab.research.google.com/github/dantae74/tensorflow/blob/main/aidu/%EC%8B%A4%EC%8A%B54_wine%20recognition%20%EB%8D%B0%EC%9D%B4%ED%84%B0%EB%A1%9C%20%EC%99%80%EC%9D%B8%EC%A2%85%EB%A5%98%20%EA%B5%AC%EB%B6%84%ED%95%98%EA%B8%B0.ipynb\" target=\"_parent\"><img src=\"https://colab.research.google.com/assets/colab-badge.svg\" alt=\"Open In Colab\"/></a>"
      ]
    },
    {
      "cell_type": "markdown",
      "metadata": {
        "id": "WfgQSbgOoe-2"
      },
      "source": [
        "**실습4**\n",
        "### **wine recognition 데이터를 이용한 <span style=\"color:darkgreen\">AI 예측</span> 문제**\n",
        "---"
      ],
      "id": "WfgQSbgOoe-2"
    },
    {
      "cell_type": "markdown",
      "metadata": {
        "id": "Pct2ZVvCkxiB"
      },
      "source": [
        "#### 와인의 성분 데이터를 이용하여 와인 종류를 예측하는 AI 문제입니다.\n",
        "#### AI코딩 단계에 따라 주어지는 문제를 읽고 답안을 작성하세요.\n",
        "#### (wine recognition 데이터 : sklearn 내장 연습용 데이터셋 사용)\n",
        " - 데이터 : 분류(카테고리)\n",
        " - 모델 : RandomForest(머신러닝 성능 비교 분석), DeepLearning\n",
        " - 주요 전처리 : 분석 Column 추가, 정규화(normalization), label 전처리(카테고리 → 수치화)\n",
        " - 주요 학습 내용 : 산점도, 분류 모델 생성(분류방법, input, output 처리, 손실함수 등), 머신러닝 모델 비교학습(리스트 활용)\n",
        "---"
      ],
      "id": "Pct2ZVvCkxiB"
    },
    {
      "cell_type": "markdown",
      "metadata": {
        "id": "dZVsG-XZlCqE"
      },
      "source": [
        "**wine recognition 데이터 컬럼 설명 (sklearn 내장 연습용 데이터셋)**\n",
        "- Alcohol : 알콜도수\n",
        "- Malic Acid : 사과산\n",
        "- Ash : 회분\n",
        "- Alcalinity of Ash : 회분의 알칼리도\n",
        "- Magnesium : 마그네슘\n",
        "- Total phenols : 총 폴리페놀\n",
        "- Flavanoids : 플로보노이드 폴페놀\n",
        "- Nonflavanoid phenols : 비 플로보노이드 폴리페놀\n",
        "- Proanthocyanins : 프로안토시아닌\n",
        "- Color intensity : 색의 강도\n",
        "- Hue : 색상\n",
        "- OD280/OD315 of diluted wines : 희석와인의 OD280/OD315 비율\n",
        "- Proline : 프롤린\n",
        "- class : 라벨(y변수_ 데이터로 각각 다른 종류의 와인을 가르킴\n",
        "    * 0, 1, 2 : 서로 다른 종류의 와인을 가리킴.\n"
      ],
      "id": "dZVsG-XZlCqE"
    },
    {
      "cell_type": "markdown",
      "metadata": {
        "id": "Bmeh-n8ZlF5n"
      },
      "source": [
        "> **<span style=\"color:red\">다음 문항을 풀기 전에 </span>아래 코드를 실행하시오.**<br>\n",
        "> **sklearn에서 제공하는 load_breast_cacncer에 대한 데이터를 불러올 예정입니다. <span style=\"color:darkgreen\"></span>**<br>\n",
        "> - 해당 형태로 불러온 데이터는 AIDU 환경변수와 상관없이 사용할수 있습니다.<br>\n",
        "> - 분석할 feautre 데이터는 x 변수에, 라벨은 y변수에 저장 되게 됩니다.(사전 x,y 데이터 분리 실행)\n",
        "\n",
        "\n",
        "---\n"
      ],
      "id": "Bmeh-n8ZlF5n"
    },
    {
      "cell_type": "code",
      "metadata": {
        "id": "e9JXMIgxl7sk"
      },
      "source": [
        "from sklearn.datasets import load_wine\n",
        "wine = load_wine()\n",
        "x = wine.data # 인풋으로 사용할 데이터\n",
        "y = wine.target # 아웃풋, target으로 사용할 데이터\n",
        "col_names = wine.feature_names # 인풋으로 사용할 데이터의 컬럼별 이름들"
      ],
      "id": "e9JXMIgxl7sk",
      "execution_count": null,
      "outputs": []
    },
    {
      "cell_type": "markdown",
      "metadata": {
        "id": "BYY6CsHzl8bM"
      },
      "source": [
        "### **Q1. Numpy를 np로 alias하여 사용할 수 있도록 불러오는 코드를 작성하고 실행하시기 바랍니다.**\n",
        "---"
      ],
      "id": "BYY6CsHzl8bM"
    },
    {
      "cell_type": "code",
      "metadata": {
        "id": "IeUNOVYil8zE"
      },
      "source": [
        "# 여기에 답안코드를 작성하세요\n",
        "\n",
        "import numpy as np"
      ],
      "id": "IeUNOVYil8zE",
      "execution_count": null,
      "outputs": []
    },
    {
      "cell_type": "markdown",
      "metadata": {
        "id": "RxpgwRv5l88R"
      },
      "source": [
        "### **Q2.Matplotlib의 pyplot을 plt로 alias하여 사용할 수 있도록 불러오는 코드를 작성하고 실행하시기 바랍니다.**\n",
        "---"
      ],
      "id": "RxpgwRv5l88R"
    },
    {
      "cell_type": "code",
      "metadata": {
        "id": "gwFm7TgZl9Eh"
      },
      "source": [
        "import matplotlib.pyplot as plt"
      ],
      "id": "gwFm7TgZl9Eh",
      "execution_count": null,
      "outputs": []
    },
    {
      "cell_type": "markdown",
      "metadata": {
        "id": "o6S0Ejtfl9MZ"
      },
      "source": [
        "### **Q3. 인풋으로 사용할 데이터( x )의 row 수와 column 수를 확인하시기 바랍니다.**\n",
        "---"
      ],
      "id": "o6S0Ejtfl9MZ"
    },
    {
      "cell_type": "code",
      "metadata": {
        "id": "sd1nqQLHl9Uh"
      },
      "source": [
        "# 여기에 답안코드를 작성하세요\n",
        "\n",
        "n_r, n_c = x.shape\n",
        "print(f\"로우 수 : {n_r}\")\n",
        "print(f\"컬럼 수 : {n_c}\")"
      ],
      "id": "sd1nqQLHl9Uh",
      "execution_count": null,
      "outputs": []
    },
    {
      "cell_type": "markdown",
      "metadata": {
        "id": "Mohz85Mzl9cR"
      },
      "source": [
        "### **Q4. 데이터를 트레이닝셋 / Valid셋으로 분할하시기 바랍니다.**\n",
        "* **\n",
        "- x, y를 이용한다.\n",
        "- train : test = 8 : 2\n",
        "- y의 클래스가 골고루 분할되도록 stratify하게 분할한다.\n",
        "- 변수명 규칙은 다음과 같다.\n",
        "    * x_train, y_train\n",
        "    * x_valid, y_valid\n",
        "- random state, seed 등은 2021로 설정한다.\n",
        "---"
      ],
      "id": "Mohz85Mzl9cR"
    },
    {
      "cell_type": "code",
      "metadata": {
        "id": "bewHUQ8Gl9kp"
      },
      "source": [
        "# 여기에 답안코드를 작성하세요\n",
        "\n",
        "from sklearn.model_selection import train_test_split\n",
        "\n",
        "# x_train, x_test, y_train, y_test = train_test_split(x, y, test_size= 0.2, random_state = 2021, stratify=y)\n",
        "# x_train, x_val, y_train, y_val = train_test_split(x_train, y_train, test_size= 0.2, \n",
        "#                                                   random_state = 2021, stratify=y_train)\n",
        "\n",
        "x_train, x_val, y_train, y_val = train_test_split(x, y, test_size=0.2, random_state=2021, stratify = y)\n",
        "\n",
        "print(x_train.shape, x_val.shape)"
      ],
      "id": "bewHUQ8Gl9kp",
      "execution_count": null,
      "outputs": []
    },
    {
      "cell_type": "markdown",
      "metadata": {
        "id": "n7yAiBU5mokP"
      },
      "source": [
        "### **Q5. Decision Tree 모델들을 학습시키시기 바랍니다.**\n",
        "* **\n",
        "- 트레이닝 셋 (x_train, y_train)을 이용하여 학습시킨다.\n",
        "- 트리의 leaf에는 최소 10개 샘플이 있어야 한다.\n",
        "- max_depth를 1 부터 15까지 늘려가며 총 15개의 트리를 학습시킨다.\n",
        "- 학습시킨 트리들은 리스트를 만들어 trees 변수에 담아둔다.\n",
        "- seed나 random_state는 2021로 고정한다.\n",
        "---"
      ],
      "id": "n7yAiBU5mokP"
    },
    {
      "cell_type": "code",
      "metadata": {
        "id": "7vEP853Tmo43"
      },
      "source": [
        "# 여기에 답안코드를 작성하세요\n",
        "\n",
        "from sklearn.tree import DecisionTreeClassifier\n",
        "\n",
        "trees = []\n",
        "\n",
        "for i in range(1,16):\n",
        "    tree = DecisionTreeClassifier(max_depth=i, min_samples_leaf=10, random_state=2021)\n",
        "    tree.fit(x_train, y_train)\n",
        "    trees.append(tree)\n",
        "\n",
        "trees[:5]"
      ],
      "id": "7vEP853Tmo43",
      "execution_count": null,
      "outputs": []
    },
    {
      "cell_type": "markdown",
      "metadata": {
        "id": "8B6sYCkqmpB_"
      },
      "source": [
        "### **Q6. Decision Tree 모델들의 성능을 리스트에 담아 accs에 선언하시기 바랍니다.**\n",
        "* **\n",
        "- max_depth가 1인 트리부터 순서대로 평가하여 리스트에 담는다.\n",
        "- 성능 평가는 5번에서 분리한 벨리데이션 셋을 이용한다.\n",
        "- 성능지표로는 accuracy를 사용한다.\n",
        "---"
      ],
      "id": "8B6sYCkqmpB_"
    },
    {
      "cell_type": "code",
      "metadata": {
        "id": "xryzyLjEmpK3"
      },
      "source": [
        "# 여기에 답안코드를 작성하세요\n",
        "\n",
        "from sklearn import metrics\n",
        "\n",
        "accs = []\n",
        "\n",
        "# for tree in trees:\n",
        "#     y_predict = tree.predict(x_val)\n",
        "#     accs.append(metrics.accuracy_score(y_val, y_predict))\n",
        "\n",
        "for tree in trees:\n",
        "    accs.append(tree.score(x_val, y_val))\n",
        "\n",
        "accs"
      ],
      "id": "xryzyLjEmpK3",
      "execution_count": null,
      "outputs": []
    },
    {
      "cell_type": "markdown",
      "metadata": {
        "id": "HxlFBOSWmpUI"
      },
      "source": [
        "### **Q7. Decision Tree의 max depth에 따른 accuracy를 시각화 하고, 가장 성능이 좋은 depth를 선택하시기 바랍니다.**\n",
        "* **\n",
        "- 위의 Q7에서 제작한 리스트 accs를 이용한다.\n",
        "- line plot 이나 scatter plot을 이용한다.\n",
        "- 동일 성능의 depth가 여러개라면, 가장 작은 depth를 선택한다.\n",
        "---"
      ],
      "id": "HxlFBOSWmpUI"
    },
    {
      "cell_type": "code",
      "metadata": {
        "id": "39tPkv6lmpc_"
      },
      "source": [
        "# 여기에 답안코드를 작성하세요\n",
        "plt.figure(figsize=(8, 6))\n",
        "plt.plot(range(1,16), accs)\n",
        "plt.xlabel('Max depth')\n",
        "plt.ylabel('Accuracy')\n",
        "plt.grid()\n",
        "plt.show()\n",
        "\n",
        "best_depth = np.argmax(accs)\n",
        "print(f'Best Depth : {best_depth+1}')"
      ],
      "id": "39tPkv6lmpc_",
      "execution_count": null,
      "outputs": []
    },
    {
      "cell_type": "markdown",
      "metadata": {
        "id": "J_uDiinMmpmn"
      },
      "source": [
        "### **Q8. Decision Tree 선택된 depth에서 모델들을 학습시키시기 바랍니다.**\n",
        "* **\n",
        "- 트레이닝 셋 (x_train, y_train)을 이용하여 학습시킨다.\n",
        "- 트리의 leaf에 담길 최소 샘플 수를 5개에서 15개까지 늘려가며 트리를 학습시킨다.(min_samples_leaf 변수를 변화시키면서 학습한다.)\n",
        "- max_depth는 선택한 depth로 고정한다.\n",
        "- 학습시킨 트리들은 리스트를 만들어 trees 변수에 담아둔다.\n",
        "- seed나 random_state는 2021로 고정한다.\n",
        "---"
      ],
      "id": "J_uDiinMmpmn"
    },
    {
      "cell_type": "code",
      "metadata": {
        "id": "TZXL7mp5mpvf"
      },
      "source": [
        "# 여기에 답안코드를 작성하세요\n",
        "trees = []\n",
        "\n",
        "for n_sample in range(5,16):\n",
        "    tree = DecisionTreeClassifier(max_depth=3, min_samples_leaf=n_sample, random_state=2021)\n",
        "    tree.fit(x_train, y_train)\n",
        "    trees.append(tree)\n",
        "\n",
        "trees[0:5]"
      ],
      "id": "TZXL7mp5mpvf",
      "execution_count": null,
      "outputs": []
    },
    {
      "cell_type": "markdown",
      "metadata": {
        "id": "qAjEVk5Ump4Q"
      },
      "source": [
        "### **Q9. Q8에서 학습시킨 Decision Tree 모델들의 성능을 리스트에 담아 accs에 선언하시기 바랍니다.**\n",
        "* **\n",
        "- leaf에 담길 최소 샘플수가 1인 트리 부터 순서대로 평가하여 리스트에 담는다.\n",
        "- 벨리데이션 셋 위에서 성능을 평가한다.\n",
        "- 성능지표로는 accuracy를 사용한다.\n",
        "---"
      ],
      "id": "qAjEVk5Ump4Q"
    },
    {
      "cell_type": "code",
      "metadata": {
        "id": "inVFsEiImqA_"
      },
      "source": [
        "# 여기에 답안코드를 작성하세요\n",
        "\n",
        "accs = []\n",
        "\n",
        "for tree in trees:\n",
        "    accs.append(tree.score(x_val, y_val))\n",
        "\n",
        "accs"
      ],
      "id": "inVFsEiImqA_",
      "execution_count": null,
      "outputs": []
    },
    {
      "cell_type": "markdown",
      "metadata": {
        "id": "-xwJHcoLmqJn"
      },
      "source": [
        "### **Q10. Decision Tree의 leaf에 담길 최소 샘플수에 따른 accuracy를 시각화 하고, 가장 성능이 좋은 최소 샘플수를 선택하시기 바랍니다.**\n",
        "* **\n",
        "- 위의 Q10에서 제작한 리스트 accs를 이용한다.\n",
        "- line plot을 이용해서 시각화 한다.\n",
        "- 동일 성능의 최소 샘플수가 여러개라면, 가장 최소값을 선택한다.\n",
        "---"
      ],
      "id": "-xwJHcoLmqJn"
    },
    {
      "cell_type": "code",
      "metadata": {
        "id": "psQJy_vQmqSH"
      },
      "source": [
        "# 여기에 답안코드를 작성하세요\n",
        "\n",
        "plt.figure(figsize=(8, 6))\n",
        "plt.plot(range(5,16), accs)\n",
        "plt.xticks(range(5,16))\n",
        "plt.xlabel('Max depth')\n",
        "plt.ylabel('Accuracy')\n",
        "plt.grid()\n",
        "plt.show()\n",
        "\n",
        "best_leaf = np.argmax(accs)\n",
        "print(f'Best leaf : {best_leaf+5}')\n",
        "best_tree = trees[best_leaf]"
      ],
      "id": "psQJy_vQmqSH",
      "execution_count": null,
      "outputs": []
    },
    {
      "cell_type": "markdown",
      "metadata": {
        "id": "tkqXZlYQmqav"
      },
      "source": [
        "### **Q11. Q10번에서 시각화한 트리의 relative feature importance를 시각화 하시기 바랍니다.**\n",
        "* **\n",
        "- 수평 bar plot을 이용한다.\n",
        "- 각 변수의 이름은 col_names를 활용한다.\n",
        "---"
      ],
      "id": "tkqXZlYQmqav"
    },
    {
      "cell_type": "code",
      "metadata": {
        "id": "kXP1qfd7neY7"
      },
      "source": [
        "# 여기에 답안코드를 작성하세요\n",
        "import pandas as pd\n",
        "\n",
        "# importance = trees[0].feature_importances_\n",
        "\n",
        "# feature_importance = pd.Series(importance, index=col_names)\n",
        "\n",
        "# fig, ax = plt.subplots()\n",
        "# feature_importance.plot.bar(ax=ax, figsize=(8,6))\n",
        "# ax.set_title('Feature importance')\n",
        "# ax.set_ylabel('Mean decrease in impurity')\n",
        "# fig.tight_layout()\n",
        "\n",
        "plt.figure(figsize=(10, 6))\n",
        "plt.barh(y=col_names, width=best_tree.feature_importances_)\n",
        "plt.grid()\n",
        "plt.show()"
      ],
      "id": "kXP1qfd7neY7",
      "execution_count": null,
      "outputs": []
    },
    {
      "cell_type": "markdown",
      "metadata": {
        "id": "fpo97vvaneVs"
      },
      "source": [
        "### **Q12. Q11번에서 시각화한 트리의 accuracy를 출력하시기 바랍니다.**\n",
        "* **\n",
        "- 테스트셋을 이용한다.\n",
        "---"
      ],
      "id": "fpo97vvaneVs"
    },
    {
      "cell_type": "code",
      "metadata": {
        "id": "3ijtNHMdneSl"
      },
      "source": [
        "# 여기에 답안코드를 작성하세요\n",
        "\n",
        "print(f'Best Tree Accuracy score : {best_tree.score(x_val, y_val) * 100:.2f}%')"
      ],
      "id": "3ijtNHMdneSl",
      "execution_count": null,
      "outputs": []
    },
    {
      "cell_type": "markdown",
      "metadata": {
        "id": "yJEd4VIsJTkY"
      },
      "source": [
        "> **<span style=\"color:red\">다음 문항을 풀기 전에 </span>아래 코드를 실행하시기 바랍니다.**\n",
        ">"
      ],
      "id": "yJEd4VIsJTkY"
    },
    {
      "cell_type": "code",
      "metadata": {
        "id": "dpTdDxtSJUy7"
      },
      "source": [
        "import tensorflow as tf\n",
        "from tensorflow import keras\n",
        "from tensorflow.keras.layers import Input, Dense, Dropout\n",
        "from tensorflow.keras.models import Sequential, Model\n",
        "from tensorflow.keras.callbacks import EarlyStopping"
      ],
      "id": "dpTdDxtSJUy7",
      "execution_count": null,
      "outputs": []
    },
    {
      "cell_type": "markdown",
      "metadata": {
        "id": "5jw5pwPbnePR"
      },
      "source": [
        "### **Q13. 아래 조건에 맞추어 뉴럴네트워크 모델을 학습시키시기 바랍니다.**\n",
        "* **\n",
        "- Tensorflow framework를 사용한다.\n",
        "- 히든레이어는 아래와 같은 규칙에 맞추어 구성합니다.\n",
        "    * 2개 이상의 fully connected layer를 사용할 것\n",
        "    * Drop out 테크닉을 적절히 활용한다.\n",
        "- Early stopping을 이용하여, validation loss가 10번 이상 개선되지 않으면 학습을 중단 시키고, 가장 성능이 좋았을 때의 가중치를 복구한다.\n",
        "- 학습과정의 로그(loss, accuracy)를 history에 선언하여 남긴다.\n",
        "- y를 별도로 원핫인코딩 하지 않고 분류모델을 학습시킬 수 있도록 한다.(loss function을 sparse_categorical_crossentropy 로 사용한다)\n",
        "- epochs는 2000번을 지정한다.\n",
        "---"
      ],
      "id": "5jw5pwPbnePR"
    },
    {
      "cell_type": "code",
      "metadata": {
        "id": "k7K76FHJneMV"
      },
      "source": [
        "# 여기에 답안코드를 작성하세요\n",
        "\n",
        "keras.backend.clear_session()\n",
        "\n",
        "model = Sequential()\n",
        "model.add(Dense(64, activation='relu', input_shape=(13,)))\n",
        "model.add(Dropout(0.3))\n",
        "model.add(Dense(128, activation='relu' ))\n",
        "model.add(Dropout(0.3))\n",
        "model.add(Dense(3, activation='softmax'))\n",
        "\n",
        "model.compile(optimizer='adam',\n",
        "              loss='sparse_categorical_crossentropy',\n",
        "              metrics=['accuracy']) \n",
        "\n",
        "es = EarlyStopping(monitor='val_loss', min_delta=0, patience=10, verbose=1, restore_best_weights=True)\n",
        "\n",
        "history = model.fit(x_train, y_train, epochs=2000, batch_size=32,verbose=1,\n",
        "                    validation_data=(x_val, y_val),callbacks=[es])"
      ],
      "id": "k7K76FHJneMV",
      "execution_count": null,
      "outputs": []
    },
    {
      "cell_type": "markdown",
      "metadata": {
        "id": "WEVTgbuBneJe"
      },
      "source": [
        "### **Q14. 다음 조건에 맞추어 뉴럴네트워크의 학습 로그를 시각화 하시기 바랍니다.**\n",
        "* **\n",
        "- 필요한 라이브러리가 있다면 따로 불러온다.\n",
        "- epochs에 따른 loss의 변화를 시각화 한다.\n",
        "- train loss와 validation loss를 전부 시각화하고, 구별가능해야 한다.\n",
        "- 그래프의 타이틀은 'Loss'로 표시한다.\n",
        "- x축에는 'epochs'라고 표시하고 y축에는 'Loss'라고 표시한다.\n",
        "- 위에서 학습한 머신러닝 모델과 성능을 비교해보시오. \n",
        "---"
      ],
      "id": "WEVTgbuBneJe"
    },
    {
      "cell_type": "code",
      "metadata": {
        "id": "xbOE-qiUneGZ"
      },
      "source": [
        "# 여기에 답안코드를 작성하세요\n",
        "\n",
        "import matplotlib.pyplot as plt\n",
        "\n",
        "plt.figure(figsize=(8,6))\n",
        "plt.plot(history.history['loss'])\n",
        "plt.plot(history.history['val_loss'])\n",
        "plt.title('Loss')\n",
        "plt.xlabel('epochs')\n",
        "plt.ylabel('Loss')\n",
        "plt.legend(['train_loss', 'val_loss'])\n",
        "plt.show()"
      ],
      "id": "xbOE-qiUneGZ",
      "execution_count": null,
      "outputs": []
    },
    {
      "cell_type": "code",
      "metadata": {
        "id": "v0du7_2D0H45"
      },
      "source": [
        ""
      ],
      "id": "v0du7_2D0H45",
      "execution_count": null,
      "outputs": []
    }
  ]
}
