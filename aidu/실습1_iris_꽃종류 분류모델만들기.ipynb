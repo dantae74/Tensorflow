{
  "nbformat": 4,
  "nbformat_minor": 5,
  "metadata": {
    "colab": {
      "name": "실습1_iris_꽃종류 분류모델만들기.ipynb",
      "provenance": [],
      "include_colab_link": true
    },
    "language_info": {
      "name": "python"
    },
    "kernelspec": {
      "name": "python3",
      "display_name": "Python 3"
    }
  },
  "cells": [
    {
      "cell_type": "markdown",
      "metadata": {
        "id": "view-in-github",
        "colab_type": "text"
      },
      "source": [
        "<a href=\"https://colab.research.google.com/github/dantae74/tensorflow/blob/main/aidu/%EC%8B%A4%EC%8A%B51_iris_%EA%BD%83%EC%A2%85%EB%A5%98%20%EB%B6%84%EB%A5%98%EB%AA%A8%EB%8D%B8%EB%A7%8C%EB%93%A4%EA%B8%B0.ipynb\" target=\"_parent\"><img src=\"https://colab.research.google.com/assets/colab-badge.svg\" alt=\"Open In Colab\"/></a>"
      ]
    },
    {
      "cell_type": "markdown",
      "metadata": {
        "id": "WfgQSbgOoe-2"
      },
      "source": [
        "**실습.1**\n",
        "### **iris 데이터를 이용한 <span style=\"color:darkgreen\">AI분류</span> 문제**\n",
        "---"
      ],
      "id": "WfgQSbgOoe-2"
    },
    {
      "cell_type": "markdown",
      "metadata": {
        "id": "Pct2ZVvCkxiB"
      },
      "source": [
        "#### 붓꽃의 종류, 길이, 너비 등의 데이터를 이용하여 붓꽃(iris)의 종류를 분류하는 AI 모델 제작 문제입니다. \n",
        "#### AI코딩 단계에 따라 주어지는 문제를 읽고 답안을 작성하세요.\n",
        " - 데이터 : 분류(카테고리)\n",
        " - 모델 : RandomForest, DeepLerning\n",
        " - 주요 전처리 : 분석 Column 추가, label 전처리(카테고리 → 수치화)\n",
        " - 주요 학습 내용 : 산점도, 히스토그램, 분류형 모델 생성(분류방법, input, output 처리, 손실함수 등)\n",
        "---\n"
      ],
      "id": "Pct2ZVvCkxiB"
    },
    {
      "cell_type": "markdown",
      "metadata": {
        "id": "dZVsG-XZlCqE"
      },
      "source": [
        "**iris.csv / iris(붓꽃) 데이터 컬럼 설명**\n",
        "- sepal.length : 큰 꽃잎의 길이\n",
        "- sepal.width : 큰 꽃잎의 너비\n",
        "- petal.length : 작은 꽃잎의 길이\n",
        "- petal.width : 작은 꽃잎의 너비\n",
        "- variety : 클래스, target, label\n",
        "    * Setosa, Versicolor, Virginica"
      ],
      "id": "dZVsG-XZlCqE"
    },
    {
      "cell_type": "markdown",
      "metadata": {
        "id": "Bmeh-n8ZlF5n"
      },
      "source": [
        "---\n",
        "> **<span style=\"color:red\">다음 문항을 풀기 전에 </span>아래 코드를 실행해주시기 바랍니다.**<br>\n",
        "> - AIDU 사용을 위한 AIDU 환경변수를 선언을 하는 코드. <span style=\"color:darkgreen\"></span><br>\n",
        "\n",
        "---"
      ],
      "id": "Bmeh-n8ZlF5n"
    },
    {
      "cell_type": "code",
      "metadata": {
        "id": "e9JXMIgxl7sk"
      },
      "source": [
        "# AIDU 내부 연동을 위한 라이브러리\n",
        "from aicentro.session import Session\n",
        "from aicentro.framework.keras import Keras as AiduFrm\n",
        "# AIDU와 연동을 위한 변수\n",
        "aidu_session = Session(verify=False)\n",
        "aidu_framework = AiduFrm(session=aidu_session)"
      ],
      "id": "e9JXMIgxl7sk",
      "execution_count": null,
      "outputs": []
    },
    {
      "cell_type": "markdown",
      "metadata": {
        "id": "BYY6CsHzl8bM"
      },
      "source": [
        "### **Q1. Pandas를 pd로 alias하여 사용할 수 있도록 불러오는 코드를 작성하고 실행하시기 바랍니다.**"
      ],
      "id": "BYY6CsHzl8bM"
    },
    {
      "cell_type": "code",
      "metadata": {
        "id": "IeUNOVYil8zE"
      },
      "source": [
        "import pandas as pd"
      ],
      "id": "IeUNOVYil8zE",
      "execution_count": null,
      "outputs": []
    },
    {
      "cell_type": "markdown",
      "metadata": {
        "id": "RxpgwRv5l88R"
      },
      "source": [
        "### **Q2.Matplotlib의 pyplot을 plt로 alias하여 사용할 수 있도록 불러오는 코드를 작성하고 실행하시기 바랍니다.**\n",
        "---"
      ],
      "id": "RxpgwRv5l88R"
    },
    {
      "cell_type": "code",
      "metadata": {
        "id": "gwFm7TgZl9Eh"
      },
      "source": [
        "import matplotlib.pyplot as plt"
      ],
      "id": "gwFm7TgZl9Eh",
      "execution_count": null,
      "outputs": []
    },
    {
      "cell_type": "markdown",
      "metadata": {
        "id": "o6S0Ejtfl9MZ"
      },
      "source": [
        "### **Q3.iris.csv를 판다스 데이터 프레임으로 불러와서 iris에 선언하는 코드를 작성하고 실행하시기 바랍니다.**\n",
        "---"
      ],
      "id": "o6S0Ejtfl9MZ"
    },
    {
      "cell_type": "code",
      "metadata": {
        "id": "sd1nqQLHl9Uh"
      },
      "source": [
        "iris = pd.read_csv(aidu_framework.config.data_dir + '/iris.csv')"
      ],
      "id": "sd1nqQLHl9Uh",
      "execution_count": 1,
      "outputs": []
    },
    {
      "cell_type": "markdown",
      "metadata": {
        "id": "Mohz85Mzl9cR"
      },
      "source": [
        "### **Q4. 데이터 프레임 iris의 처음 6개 행을 조회하는 코드를 작성하고 실행하시기 바랍니다.**\n",
        "---"
      ],
      "id": "Mohz85Mzl9cR"
    },
    {
      "cell_type": "code",
      "metadata": {
        "id": "bewHUQ8Gl9kp"
      },
      "source": [
        "iris.head(6)"
      ],
      "id": "bewHUQ8Gl9kp",
      "execution_count": null,
      "outputs": []
    },
    {
      "cell_type": "markdown",
      "metadata": {
        "id": "n7yAiBU5mokP"
      },
      "source": [
        "### **Q5. 데이터 프레임 iris의 variety 컬럼을 바 플롯(bar plot)을 이용하여 시각화 하시기 바랍니다.**"
      ],
      "id": "n7yAiBU5mokP"
    },
    {
      "cell_type": "code",
      "metadata": {
        "id": "7vEP853Tmo43"
      },
      "source": [
        "# plt.hist(iris['variety'])\n",
        "# plt.show\n",
        "\n",
        "iris['variety'].value_counts().plot(kind='bar')\n",
        "plt.show()"
      ],
      "id": "7vEP853Tmo43",
      "execution_count": null,
      "outputs": []
    },
    {
      "cell_type": "markdown",
      "metadata": {
        "id": "8B6sYCkqmpB_"
      },
      "source": [
        "### **Q6. 데이터 프레임 iris의 sepal.length 컬럼을 히스토 그램을 이용하여 시각화 하시기 바랍니다.**\n",
        "---"
      ],
      "id": "8B6sYCkqmpB_"
    },
    {
      "cell_type": "code",
      "metadata": {
        "id": "xryzyLjEmpK3"
      },
      "source": [
        "# plt.hist(iris['petal.length'])\n",
        "# plt.show()\n",
        "\n",
        "iris['sepal.length'].plot(kind='hist')\n",
        "plt.show()"
      ],
      "id": "xryzyLjEmpK3",
      "execution_count": null,
      "outputs": []
    },
    {
      "cell_type": "markdown",
      "metadata": {
        "id": "HxlFBOSWmpUI"
      },
      "source": [
        "### **Q7. 데이터 프레임 iris의 petal.width 컬럼을 히스토 그램을 이용하여 시각화 하시기 바랍니다.**\n",
        "\n",
        "* **\n",
        "- 다섯개 구간으로 나누어 시각화 하시오.\n",
        "---"
      ],
      "id": "HxlFBOSWmpUI"
    },
    {
      "cell_type": "code",
      "metadata": {
        "id": "39tPkv6lmpc_"
      },
      "source": [
        "# plt.hist(iris['petal.width'], bins=5)\n",
        "# plt.show()\n",
        "\n",
        "iris['petal.width'].plot(kind='hist', bins=5)\n",
        "plt.show()"
      ],
      "id": "39tPkv6lmpc_",
      "execution_count": null,
      "outputs": []
    },
    {
      "cell_type": "markdown",
      "metadata": {
        "id": "J_uDiinMmpmn"
      },
      "source": [
        "### **Q8. 데이터 프레임 iris의 sepal.width를 x축으로 petal.width를 y축으로 하는 산점도를 시각화 하시기 바랍니다.**\n",
        "---"
      ],
      "id": "J_uDiinMmpmn"
    },
    {
      "cell_type": "code",
      "metadata": {
        "id": "TZXL7mp5mpvf"
      },
      "source": [
        "# iris.plot.scatter(x='sepal.width', \n",
        "#                   y='petal.width', \n",
        "#                   s=100, # marker size\n",
        "#                   c='blue', \n",
        "#                   alpha=0.5)\n",
        "\n",
        "# plt.title('Scatter Plot of iris', fontsize=20)\n",
        "# plt.xlabel('Petal Length', fontsize=14)\n",
        "# plt.ylabel('Petal Width', fontsize=14)\n",
        "# plt.show()\n",
        "\n",
        "\n",
        "iris.plot(kind='scatter', x='sepal.width', y='petal.width')\n",
        "plt.show()"
      ],
      "id": "TZXL7mp5mpvf",
      "execution_count": null,
      "outputs": []
    },
    {
      "cell_type": "markdown",
      "metadata": {
        "id": "qAjEVk5Ump4Q"
      },
      "source": [
        "### **Q9. 데이터 프레임 iris의 sepal.length를 x축으로 petal.length를 y축으로 하는 산점도를 시각화 하시기 바랍니다.**\n",
        "\n",
        "* **\n",
        "- class에 따라 다른색을 띄도록 시각화 하시오.\n",
        "---"
      ],
      "id": "qAjEVk5Ump4Q"
    },
    {
      "cell_type": "code",
      "metadata": {
        "id": "inVFsEiImqA_"
      },
      "source": [
        "# import seaborn as sns\n",
        "# sns.scatterplot(x='sepal.length',\n",
        "#                 y='petal.length',\n",
        "#                 hue='variety',\n",
        "#                 s=100,\n",
        "#                data=iris)\n",
        "# plt.show()\n",
        "\n",
        "groups = iris.groupby('variety')\n",
        "for name, group in groups :\n",
        "    plt.scatter(x = 'sepal.length', y = 'petal.length', data=group, label=name)\n",
        "plt.legend()\n",
        "plt.show()"
      ],
      "id": "inVFsEiImqA_",
      "execution_count": null,
      "outputs": []
    },
    {
      "cell_type": "markdown",
      "metadata": {
        "id": "-xwJHcoLmqJn"
      },
      "source": [
        "### **Q10. 다음 조건에 맞추어 데이터 프레임 iris에 새로운 컬럼 sepal_ratio 를 추가하시기 바랍니다.**\n",
        "* **\n",
        "- sepal.length를 분자로 sepal.width를 분모로 하는 비율을 sepal_ratio로 정의한다.\n",
        "---"
      ],
      "id": "-xwJHcoLmqJn"
    },
    {
      "cell_type": "code",
      "metadata": {
        "id": "psQJy_vQmqSH"
      },
      "source": [
        "# 여기에 답안코드를 작성하세요\n",
        "iris['sepal_ratio'] = iris['sepal.length'] / iris['sepal.width']\n",
        "iris.head(5)"
      ],
      "id": "psQJy_vQmqSH",
      "execution_count": null,
      "outputs": []
    },
    {
      "cell_type": "markdown",
      "metadata": {
        "id": "tkqXZlYQmqav"
      },
      "source": [
        "### **Q11. 다음 조건에 맞추어 데이터 프레임 iris에 새로운 컬럼 length_diff 를 추가하시기 바랍니다.**\n",
        "\n",
        "* **\n",
        "- sepal.length와 petal.length의 차이의 크기를 length_diff로 정의한다.\n",
        "---"
      ],
      "id": "tkqXZlYQmqav"
    },
    {
      "cell_type": "code",
      "metadata": {
        "id": "kXP1qfd7neY7"
      },
      "source": [
        "iris['length_diff'] = iris['sepal.length'] - iris['petal.length']\n",
        "iris.head(5)"
      ],
      "id": "kXP1qfd7neY7",
      "execution_count": null,
      "outputs": []
    },
    {
      "cell_type": "markdown",
      "metadata": {
        "id": "fpo97vvaneVs"
      },
      "source": [
        "### **Q12. 데이터 프레임 iris의 컬럼 variety를 label encoding하시기 바랍니다.**\n",
        "---"
      ],
      "id": "fpo97vvaneVs"
    },
    {
      "cell_type": "code",
      "metadata": {
        "id": "3ijtNHMdneSl"
      },
      "source": [
        "from sklearn.preprocessing import LabelEncoder\n",
        "encoder = LabelEncoder()\n",
        "iris['variety'] = encoder.fit_transform(iris['variety'])\n",
        "iris.tail(10)"
      ],
      "id": "3ijtNHMdneSl",
      "execution_count": null,
      "outputs": []
    },
    {
      "cell_type": "markdown",
      "metadata": {
        "id": "5jw5pwPbnePR"
      },
      "source": [
        "### **Q13. 데이터를 트레이닝셋 / 테스트셋으로 분할하시기 바랍니다.**\n",
        "* **\n",
        "- y는 iris데이터 프레임의 'variety'컬럼이고 x는 그 나머지 컬럼이다.\n",
        "- train : test = 9 : 1\n",
        "- y의 클래스가 골고루 분할되도록 stratify하게 분할한다.\n",
        "- 변수명 규칙은 다음과 같다.\n",
        "    * x_train, y_train\n",
        "    * x_test, y_test\n",
        "- random state, seed 등은 2021로 설정한다.\n",
        "---"
      ],
      "id": "5jw5pwPbnePR"
    },
    {
      "cell_type": "code",
      "metadata": {
        "id": "k7K76FHJneMV"
      },
      "source": [
        "from sklearn.model_selection import train_test_split\n",
        "\n",
        "\n",
        "Y= iris['variety']\n",
        "X= iris.drop(['variety'], axis=1)\n",
        "x_train, x_test, y_train, y_test = train_test_split(X, Y, test_size= 0.1, random_state = 2021, stratify = Y)\n",
        "x_train.head()"
      ],
      "id": "k7K76FHJneMV",
      "execution_count": null,
      "outputs": []
    },
    {
      "cell_type": "markdown",
      "metadata": {
        "id": "WEVTgbuBneJe"
      },
      "source": [
        "### **Q15. Random Forest 모델들을 학습시키시기 바랍니다.**\n",
        "* **\n",
        "- RandomForestClassifier 하이퍼파라미터 설정 :  n_estimators=50, max_depth=13, random_state=30, min_samples_leaf=5\n",
        "- n_estimators 종합한 전체 트리의 가지수, max_depth : 각 Tree의 가장 깊은 높이, min_samples_leaf: 각 끝의 노드에는 최소 5개의 트레이닝 샘플이 있어야함\n",
        "- 트레이닝 셋 (x_train, y_train)을 이용하여 학습시킨다.\n",
        "- Forest를 이루는 tree의 leaf안에는 최소한 5개의 트레이닝셋 샘플이 있어야 한다.\n",
        "- seed나 random_state는 2021로 고정한다.\n",
        "---"
      ],
      "id": "WEVTgbuBneJe"
    },
    {
      "cell_type": "code",
      "metadata": {
        "id": "xbOE-qiUneGZ"
      },
      "source": [
        "from sklearn.ensemble import RandomForestClassifier\n",
        "rfc = RandomForestClassifier(n_estimators=50, max_depth=13, min_samples_leaf=5, random_state=2021)\n",
        "rfc.fit(x_train, y_train)\n",
        "\n",
        "rfc.score(x_test, y_test)"
      ],
      "id": "xbOE-qiUneGZ",
      "execution_count": null,
      "outputs": []
    },
    {
      "cell_type": "markdown",
      "metadata": {
        "id": "gnMBHB0SneDZ"
      },
      "source": [
        "> **<span style=\"color:red\">다음 문항을 풀기 전에 </span>아래 코드를 실행하세요.**\n",
        ">"
      ],
      "id": "gnMBHB0SneDZ"
    },
    {
      "cell_type": "code",
      "metadata": {
        "id": "YsRN83uDneAR"
      },
      "source": [
        "import tensorflow as tf\n",
        "from tensorflow import keras\n",
        "from tensorflow.keras.layers import Input, Dense, BatchNormalization\n",
        "from tensorflow.keras.models import Sequential, Model\n",
        "from tensorflow.keras.callbacks import EarlyStopping"
      ],
      "id": "YsRN83uDneAR",
      "execution_count": null,
      "outputs": []
    },
    {
      "cell_type": "markdown",
      "metadata": {
        "id": "QvDhaeVWnd9F"
      },
      "source": [
        "### **Q16. 아래 조건에 맞추어 뉴럴네트워크 모델을 학습시키시기 바랍니다.**\n",
        "* **\n",
        "- Tensorflow framework를 사용한다.\n",
        "- 히든레이어는 아래와 같은 규칙에 맞추어 구성합니다.\n",
        "    * 2개의 fully connected layer를 사용할 것\n",
        "    * Batchnormalization을 반드시 활용한다.\n",
        "- Early stopping을 이용하여, validation loss가 5번 이상 개선되지 않으면 학습을 중단 시키고, 가장 성능이 좋았을 때의 가중치를 복구한다.\n",
        "- 학습과정의 로그(loss, accuracy)를 history에 선언하여 남긴다.\n",
        "- y를 별도로 원핫인코딩 하지 않고 분류모델을 학습시킬 수 있도록 한다.(해당 형태의 경우 loss function은 sparse_categorical_crossentropy를 활용해야한다.)\n",
        "- epochs는 2000번을 지정한다.\n",
        "---"
      ],
      "id": "QvDhaeVWnd9F"
    },
    {
      "cell_type": "code",
      "metadata": {
        "id": "6HoROBjQndsT"
      },
      "source": [
        "keras.backend.clear_session()\n",
        "\n",
        "model = Sequential()\n",
        "model.add(Dense(36, activation='relu', input_shape=(6,)))\n",
        "model.add(BatchNormalization())\n",
        "model.add(Dense(36, activation='relu' ))\n",
        "model.add(BatchNormalization())\n",
        "model.add(Dense(12, activation='relu'))\n",
        "model.add(Dense(3, activation='softmax'))\n",
        "\n",
        "model.compile(optimizer='adam',\n",
        "              loss='sparse_categorical_crossentropy',\n",
        "              metrics=['accuracy']) \n",
        "\n",
        "es = EarlyStopping(monitor='val_loss', min_delta=0, patience=5, verbose=1, restore_best_weights=True)\n",
        "history = model.fit(x_train, y_train, epochs=2000, batch_size=32,\n",
        "                    verbose=1,validation_data=(x_test, y_test),callbacks=[es])"
      ],
      "id": "6HoROBjQndsT",
      "execution_count": null,
      "outputs": []
    },
    {
      "cell_type": "markdown",
      "metadata": {
        "id": "roirKZT2ndkM"
      },
      "source": [
        "### **Q17. 다음 조건에 맞추어 뉴럴네트워크의 학습 로그를 시각화 하시기 바랍니다.**\n",
        "* **\n",
        "- 필요한 라이브러리가 있다면 따로 불러온다.\n",
        "- epochs에 따른 accuracy의 변화를 시각화 한다.\n",
        "- train accuracy와 validation accuracy를 전부 시각화하고, 구별가능해야 한다.\n",
        "- 그래프의 타이틀은 'Accuracy'로 표시한다.\n",
        "- x축에는 'epochs'라고 표시하고 y축에는 'accuracy'라고 표시한다.\n",
        "---"
      ],
      "id": "roirKZT2ndkM"
    },
    {
      "cell_type": "code",
      "metadata": {
        "id": "a3odBpO2ndZ7"
      },
      "source": [
        "import matplotlib.pyplot as plt\n",
        "\n",
        "plt.plot(history.history['accuracy'])\n",
        "plt.plot(history.history['val_accuracy'])\n",
        "plt.title('Accuracy')\n",
        "plt.xlabel('epochs')\n",
        "plt.ylabel('accuracy')\n",
        "plt.legend(['train_acc', 'val_acc'])\n",
        "plt.show()"
      ],
      "id": "a3odBpO2ndZ7",
      "execution_count": null,
      "outputs": []
    }
  ]
}
