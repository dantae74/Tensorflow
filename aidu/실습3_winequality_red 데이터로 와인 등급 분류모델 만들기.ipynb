{
  "nbformat": 4,
  "nbformat_minor": 5,
  "metadata": {
    "colab": {
      "name": "실습2_ade_sales판매개수 예측하기.ipynb",
      "provenance": [],
      "include_colab_link": true
    },
    "language_info": {
      "name": "python"
    },
    "kernelspec": {
      "name": "python3",
      "display_name": "Python 3"
    }
  },
  "cells": [
    {
      "cell_type": "markdown",
      "metadata": {
        "id": "view-in-github",
        "colab_type": "text"
      },
      "source": [
        "<a href=\"https://colab.research.google.com/github/dantae74/tensorflow/blob/main/aidu/%EC%8B%A4%EC%8A%B53_winequality_red%20%EB%8D%B0%EC%9D%B4%ED%84%B0%EB%A1%9C%20%EC%99%80%EC%9D%B8%20%EB%93%B1%EA%B8%89%20%EB%B6%84%EB%A5%98%EB%AA%A8%EB%8D%B8%20%EB%A7%8C%EB%93%A4%EA%B8%B0.ipynb\" target=\"_parent\"><img src=\"https://colab.research.google.com/assets/colab-badge.svg\" alt=\"Open In Colab\"/></a>"
      ]
    },
    {
      "cell_type": "markdown",
      "metadata": {
        "id": "WfgQSbgOoe-2"
      },
      "source": [
        "**실습3**\n",
        "### **winequality_red 데이터를 이용한 <span style=\"color:darkgreen\">AI분류</span> 문제**\n",
        "---"
      ],
      "id": "WfgQSbgOoe-2"
    },
    {
      "cell_type": "markdown",
      "metadata": {
        "id": "Pct2ZVvCkxiB"
      },
      "source": [
        "#### 와인의 성분 데이터를 이용하여 와인 등급을 분류하는 AI 문제입니다.\n",
        "#### AI코딩 단계에 따라 주어지는 문제를 읽고 답안을 작성하세요.\n",
        " - 데이터 : 분류(카테고리)\n",
        " - 모델 : RandomForest(머신러닝 모델 비교 분석 추가), DeepLearning\n",
        " - 주요 전처리 : 분석 Column 추가, 정규화(normalization), label 전처리(카테고리 → 수치화)\n",
        " - 주요 학습 내용 : 산점도, 분류 모델 생성(분류방법, input, output 처리, 손실함수 등), 머신러닝 모델 비교학습(리스트 활용)\n",
        "---\n"
      ],
      "id": "Pct2ZVvCkxiB"
    },
    {
      "cell_type": "markdown",
      "metadata": {
        "id": "dZVsG-XZlCqE"
      },
      "source": [
        "**winequality_red.csv / 에이드 판매 데이터 컬럼 설명**\n",
        "- fixed acidity : 고정산 농도\n",
        "- volatile acidity : 휘발산 농도\n",
        "- citric acid : 구연산 농도\n",
        "- residual sugar : 잔류 당분 농도\n",
        "- chlorides : 염화물 농도\n",
        "- free sulfur dioxide : 유리 아황산 농도\n",
        "- total sulfur dioxide : 총 아황산 노도\n",
        "- density : 밀도\n",
        "- pH : pH, 수소이온농도지수\n",
        "- sulphates : 황산염 농도\n",
        "- alcohol : 알코올 도수\n",
        "- quality : 와인 등급 0 ~ 10, integer\n",
        "    * 현재 데이터는 3,4,5,6,7,8 만 있다."
      ],
      "id": "dZVsG-XZlCqE"
    },
    {
      "cell_type": "markdown",
      "metadata": {
        "id": "Bmeh-n8ZlF5n"
      },
      "source": [
        "---\n",
        "> **<span style=\"color:red\">다음 문항을 풀기 전에 </span>아래 코드를 실행해주시기 바랍니다.**<br>\n",
        "> - AIDU 사용을 위한 AIDU 환경변수를 선언을 하는 코드. <span style=\"color:darkgreen\"></span><br>\n",
        "\n",
        "---"
      ],
      "id": "Bmeh-n8ZlF5n"
    },
    {
      "cell_type": "code",
      "metadata": {
        "id": "e9JXMIgxl7sk"
      },
      "source": [
        "# AIDU 내부 연동을 위한 라이브러리\n",
        "from aicentro.session import Session\n",
        "from aicentro.framework.keras import Keras as AiduFrm\n",
        "# AIDU와 연동을 위한 변수\n",
        "aidu_session = Session(verify=False)\n",
        "aidu_framework = AiduFrm(session=aidu_session)"
      ],
      "id": "e9JXMIgxl7sk",
      "execution_count": null,
      "outputs": []
    },
    {
      "cell_type": "markdown",
      "metadata": {
        "id": "BYY6CsHzl8bM"
      },
      "source": [
        "### **Q1. Pandas를 pd로 alias하여 사용할 수 있도록 불러오는 코드를 작성하고 실행하시기 바랍니다.**"
      ],
      "id": "BYY6CsHzl8bM"
    },
    {
      "cell_type": "code",
      "metadata": {
        "id": "IeUNOVYil8zE"
      },
      "source": [
        "import pandas as pd"
      ],
      "id": "IeUNOVYil8zE",
      "execution_count": null,
      "outputs": []
    },
    {
      "cell_type": "markdown",
      "metadata": {
        "id": "RxpgwRv5l88R"
      },
      "source": [
        "### **Q2.Matplotlib의 pyplot을 plt로 alias하여 사용할 수 있도록 불러오는 코드를 작성하고 실행하시기 바랍니다.**\n",
        "---"
      ],
      "id": "RxpgwRv5l88R"
    },
    {
      "cell_type": "code",
      "metadata": {
        "id": "gwFm7TgZl9Eh"
      },
      "source": [
        "import matplotlib.pyplot as plt"
      ],
      "id": "gwFm7TgZl9Eh",
      "execution_count": null,
      "outputs": []
    },
    {
      "cell_type": "markdown",
      "metadata": {
        "id": "o6S0Ejtfl9MZ"
      },
      "source": [
        "### **Q3.winequality_red.csv를 판다스 데이터 프레임으로 불러와서 wine에 선언하는 코드를 작성하고 실행하시기 바랍니다.**\n",
        "- 해당 csv는 string 형식으로 저장되어 있으며 ';' 기호로 항목을 분리해줘야 합니다.\n",
        "---"
      ],
      "id": "o6S0Ejtfl9MZ"
    },
    {
      "cell_type": "code",
      "metadata": {
        "id": "sd1nqQLHl9Uh"
      },
      "source": [
        "# 여기에 답안코드를 작성하세요\n",
        "\n",
        "wine = pd.read_csv(aidu_framework.config.data_dir + '/winequality_red.csv', encoding='cp949', sep=';')"
      ],
      "id": "sd1nqQLHl9Uh",
      "execution_count": null,
      "outputs": []
    },
    {
      "cell_type": "markdown",
      "metadata": {
        "id": "Mohz85Mzl9cR"
      },
      "source": [
        "### **Q4. 데이터 프레임 wine의 처음 5개 행을 조회하는 코드를 작성하고 데이터가 올바르게 불러와졌는지 확인하시기 바랍니다.**\n",
        "---"
      ],
      "id": "Mohz85Mzl9cR"
    },
    {
      "cell_type": "code",
      "metadata": {
        "id": "bewHUQ8Gl9kp"
      },
      "source": [
        "# 여기에 답안코드를 작성하세요\n",
        "\n",
        "wine.head(5)"
      ],
      "id": "bewHUQ8Gl9kp",
      "execution_count": null,
      "outputs": []
    },
    {
      "cell_type": "markdown",
      "metadata": {
        "id": "n7yAiBU5mokP"
      },
      "source": [
        "### **Q5. 데이터 프레임 wine의 alcohol 컬럼을 히스토그램으로 시각화 하시기 바랍니다.**\n",
        "\n",
        "* **\n",
        "- 시각화를 위해 데이터를 10개 구간으로 나눈다.\n",
        "---"
      ],
      "id": "n7yAiBU5mokP"
    },
    {
      "cell_type": "code",
      "metadata": {
        "id": "7vEP853Tmo43"
      },
      "source": [
        "# 여기에 답안코드를 작성하세요\n",
        "\n",
        "print(ade.shape)"
      ],
      "id": "7vEP853Tmo43",
      "execution_count": null,
      "outputs": []
    },
    {
      "cell_type": "markdown",
      "metadata": {
        "id": "8B6sYCkqmpB_"
      },
      "source": [
        "### **Q6. 데이터 프레임 ade에서 중복된 열을 찾아 제거하는 코드를 작성하고 실행하시기 바랍니다.**\n",
        "---"
      ],
      "id": "8B6sYCkqmpB_"
    },
    {
      "cell_type": "code",
      "metadata": {
        "id": "xryzyLjEmpK3"
      },
      "source": [
        "# 여기에 답안코드를 작성하세요\n",
        "\n",
        "wine['alcohol'].hist(bins=10)\n",
        "plt.show()"
      ],
      "id": "xryzyLjEmpK3",
      "execution_count": null,
      "outputs": []
    },
    {
      "cell_type": "markdown",
      "metadata": {
        "id": "HxlFBOSWmpUI"
      },
      "source": [
        "### **Q6. 다음 조건에 맞추어 데이터 프레임 wine에 새로운 컬럼 rat_ca를 제작하시기 바랍니다.**\n",
        "\n",
        "* **\n",
        "- rat_ca 는 구연산 농도(citric acid를 알코올 도수(alcohol)로 나눈 값으로 정의한다.\n",
        "---"
      ],
      "id": "HxlFBOSWmpUI"
    },
    {
      "cell_type": "code",
      "metadata": {
        "id": "39tPkv6lmpc_"
      },
      "source": [
        "# 여기에 답안코드를 작성하세요\n",
        "wine['rat_ca'] = wine['citric acid'] / wine['alcohol']\n",
        "wine.head(5)"
      ],
      "id": "39tPkv6lmpc_",
      "execution_count": null,
      "outputs": []
    },
    {
      "cell_type": "markdown",
      "metadata": {
        "id": "J_uDiinMmpmn"
      },
      "source": [
        "### **Q7. 데이터 프레임 wine의 컬럼 rat_ac를 x축, quality를 y축으로 하는 산점도를 시각화 하시기 바랍니다.**\n",
        "\n",
        "---"
      ],
      "id": "J_uDiinMmpmn"
    },
    {
      "cell_type": "code",
      "metadata": {
        "id": "TZXL7mp5mpvf"
      },
      "source": [
        "# 여기에 답안코드를 작성하세요\n",
        "\n",
        "wine.plot(kind='scatter', x='rat_ca', y='quality')\n",
        "plt.show()"
      ],
      "id": "TZXL7mp5mpvf",
      "execution_count": null,
      "outputs": []
    },
    {
      "cell_type": "markdown",
      "metadata": {
        "id": "4kVjgmPmK-RB"
      },
      "source": [
        "### **Q8. 다음 조건에 맞추어 데이터 프레임 wine에 새로운 컬럼 rat_r2a를 제작하시기 바랍니다.**\n",
        "\n",
        "* **\n",
        "- rat_r2a 는 잔류 당분 농도(residual sugar)의 제곱을 알코올 도수(alcohol)로 나눈 값으로 정의한다.\n",
        "---"
      ],
      "id": "4kVjgmPmK-RB"
    },
    {
      "cell_type": "code",
      "metadata": {
        "id": "HpD-DvoDLAQH"
      },
      "source": [
        "# 여기에 답안코드를 작성하세요\n",
        "wine['rat_r2a'] = wine['residual sugar'] ** 2 / wine['alcohol']\n",
        "wine['rat_r2a']"
      ],
      "id": "HpD-DvoDLAQH",
      "execution_count": null,
      "outputs": []
    },
    {
      "cell_type": "markdown",
      "metadata": {
        "id": "qAjEVk5Ump4Q"
      },
      "source": [
        "### **Q9. 데이터 프레임 wine의 컬럼 rat_r2a를 x축으로 quality를 y축으로 하는 산점도를 시각화 하시기 바랍니다.**"
      ],
      "id": "qAjEVk5Ump4Q"
    },
    {
      "cell_type": "code",
      "metadata": {
        "id": "inVFsEiImqA_"
      },
      "source": [
        "# 여기에 답안코드를 작성하세요\n",
        "\n",
        "wine.plot(kind='scatter', x='rat_r2a', y='quality')\n",
        "plt.show()"
      ],
      "id": "inVFsEiImqA_",
      "execution_count": null,
      "outputs": []
    },
    {
      "cell_type": "markdown",
      "metadata": {
        "id": "-xwJHcoLmqJn"
      },
      "source": [
        "### **Q10. 다음 조건에 맞추어 데이터 프레임 wine에 새로운 컬럼 rat_cta를 제작하시기 바랍니다.**\n",
        "\n",
        "* **\n",
        "- rat_cta 는 구연산 농도를 (구연산+고정산+휘발산)농도로 나눈 값으로 정의한다.\n",
        "- 구연산 : citric acid, 휘발산 : volatile acidity, 고정산 : fixed activity\n",
        "---"
      ],
      "id": "-xwJHcoLmqJn"
    },
    {
      "cell_type": "code",
      "metadata": {
        "id": "psQJy_vQmqSH"
      },
      "source": [
        "# 여기에 답안코드를 작성하세요\n",
        "\n",
        "# wine['rat_cta'] = wine['citric acid'] / (wine['citric acid']+wine['volatile acidity']+wine['fixed acidity'])\n",
        "\n",
        "wine['rat_cta'] = wine['citric acid'] / wine[['citric acid', 'volatile acidity', 'fixed acidity']].sum(axis=1)\n",
        "wine['rat_cta']"
      ],
      "id": "psQJy_vQmqSH",
      "execution_count": null,
      "outputs": []
    },
    {
      "cell_type": "markdown",
      "metadata": {
        "id": "tkqXZlYQmqav"
      },
      "source": [
        "### **Q11. 데이터 프레임 wine의 컬럼 rat_cta를 x축으로 컬럼 quality를 y축으로 하는 산점도를 시각화 하시기 바랍니다.**\n",
        "\n",
        "* **\n",
        "- plot에 grid(격자 표시)를 추가하시오.\n",
        "---"
      ],
      "id": "tkqXZlYQmqav"
    },
    {
      "cell_type": "code",
      "metadata": {
        "id": "kXP1qfd7neY7"
      },
      "source": [
        "# 여기에 답안코드를 작성하세요\n",
        "\n",
        "wine.plot(kind='scatter', x='rat_cta', y='quality', grid=True)\n",
        "plt.show()"
      ],
      "id": "kXP1qfd7neY7",
      "execution_count": null,
      "outputs": []
    },
    {
      "cell_type": "markdown",
      "metadata": {
        "id": "fpo97vvaneVs"
      },
      "source": [
        "### **Q12. 데이터 프레임 wine의 컬럼 density와 pH를 표준화(standardization) 하시기 바랍니다**\n",
        "\n",
        "---"
      ],
      "id": "fpo97vvaneVs"
    },
    {
      "cell_type": "code",
      "metadata": {
        "id": "3ijtNHMdneSl"
      },
      "source": [
        "# 답안1 \n",
        "\n",
        "# wine['density'] = (wine['density'] - wine['density'].mean()) / wine['density'].std()\n",
        "# wine['pH'] = (wine['pH'] - wine['pH'].mean()) / wine['pH'].std()\n",
        "# wine[['density', 'pH']].head(5)\n",
        "\n",
        "x = wine[['density', 'pH']]\n",
        "wine[['density', 'pH']]= ( x - x.mean(axis=0) ) / x.std(axis=0)  "
      ],
      "id": "3ijtNHMdneSl",
      "execution_count": null,
      "outputs": []
    },
    {
      "cell_type": "code",
      "metadata": {
        "id": "2eoPRx9wLcDd"
      },
      "source": [
        "#답안 2\n",
        "\n",
        "from sklearn.preprocessing import StandardScaler\n",
        "scaler=StandardScaler()\n",
        "\n",
        "wine[['density', 'pH']]=scaler.fit_transform(wine[['density', 'pH']])"
      ],
      "id": "2eoPRx9wLcDd",
      "execution_count": null,
      "outputs": []
    },
    {
      "cell_type": "markdown",
      "metadata": {
        "id": "vYup3oauLhQ3"
      },
      "source": [
        "### **Q13. 데이터를 트레이닝셋 / 테스트셋으로 분할하시기 바랍니다.**\n",
        "* **\n",
        "- y는 wine데이터 프레임의 quality컬럼이다. x는 그 나머지 컬럼들이다.\n",
        "- train : test = 9 : 1\n",
        "- y의 클래스가 골고루 분할되도록 stratify하게 분할한다.\n",
        "- 변수명 규칙은 다음과 같다.\n",
        "    * x_train, y_train\n",
        "    * x_test, y_test\n",
        "- random state, seed 등은 2021로 설정한다.\n",
        "---"
      ],
      "id": "vYup3oauLhQ3"
    },
    {
      "cell_type": "code",
      "metadata": {
        "id": "UzVH1I-3LgOZ"
      },
      "source": [
        "# 여기에 답안코드를 작성하세요\n",
        "\n",
        "from sklearn.model_selection import train_test_split\n",
        "\n",
        "x = wine.drop('quality', axis=1)\n",
        "y = wine['quality']\n",
        "\n",
        "x_train, x_test, y_train, y_test = train_test_split(x, y, test_size= 0.1, random_state = 2021, stratify=y)\n",
        "print(x_train.shape, x_test.shape)"
      ],
      "id": "UzVH1I-3LgOZ",
      "execution_count": null,
      "outputs": []
    },
    {
      "cell_type": "markdown",
      "metadata": {
        "id": "5jw5pwPbnePR"
      },
      "source": [
        "### **Q14. 트레이닝 데이터를 트레이닝셋 / 벨리데이션셋으로 분할하시기 바랍니다.**\n",
        "* **\n",
        "- x_train, y_train을 이용한다.\n",
        "- train : validation = 8 : 1\n",
        "- y_train의 클래스가 골고루 분할되도록 stratify하게 분할한다.\n",
        "- 변수명 규칙은 다음과 같다.\n",
        "    * x_train, y_train\n",
        "    * x_valid, y_valid\n",
        "- random state, seed 등은 2021로 설정한다.\n",
        "---"
      ],
      "id": "5jw5pwPbnePR"
    },
    {
      "cell_type": "code",
      "metadata": {
        "id": "k7K76FHJneMV"
      },
      "source": [
        "# 여기에 답안코드를 작성하세요\n",
        "\n",
        "x_train, x_val, y_train, y_val = train_test_split(x_train, y_train, test_size= 0.2, random_state = 2021, stratify=y_train)\n",
        "print(x_train.shape, x_val.shape)"
      ],
      "id": "k7K76FHJneMV",
      "execution_count": null,
      "outputs": []
    },
    {
      "cell_type": "markdown",
      "metadata": {
        "id": "WEVTgbuBneJe"
      },
      "source": [
        "### **Q15. RandomForest 모델들을 학습시키시기 바랍니다.**\n",
        "* **\n",
        "- RandomForestClassifier 하이퍼파라미터 설정 :  n_estimators=나무의 개수, max_depth=13(각 Tree의 max depth),min_samples_leaf=5(한개의 node에 최소의 데이터 개수, 5개면 tree depth를 늘리지 않음) random_state=30\n",
        "- 와인의 퀄리티를 '분류'모델링 한다.\n",
        "- 트레이닝 셋 (x_train, y_train)을 이용하여 학습시킨다.\n",
        "- 나무의 개수를 1에서 50까지 늘려가며 학습한다.\n",
        "- 학습시킨 랜덤포레스트들은 리스트를 만들어 forests 변수에 담아둔다.\n",
        "- seed나 random_state는 2021로 고정한다.\n",
        "---"
      ],
      "id": "WEVTgbuBneJe"
    },
    {
      "cell_type": "code",
      "metadata": {
        "id": "xbOE-qiUneGZ"
      },
      "source": [
        "# 여기에 답안코드를 작성하세요\n",
        "\n",
        "from sklearn.ensemble import RandomForestClassifier\n",
        "\n",
        "forests = []\n",
        "for i in range(1,51):\n",
        "    rfc = RandomForestClassifier(n_estimators=i, max_depth=13, min_samples_leaf=5, random_state=2021)\n",
        "    rfc.fit(x_train, y_train)\n",
        "    forests.append(rfc)\n",
        "    \n",
        "\n",
        "forests[0]"
      ],
      "id": "xbOE-qiUneGZ",
      "execution_count": null,
      "outputs": []
    },
    {
      "cell_type": "markdown",
      "metadata": {
        "id": "QvDhaeVWnd9F"
      },
      "source": [
        "### **Q16. RandomForest 모델들의 성능을 리스트에 담아 accs에 선언하시기 바랍니다.**\n",
        "* **\n",
        "- 위에 저장한 randomforest 값들을 불러온다.(forest list를 활용한다. forests[i] 형태)\n",
        "- for 문 함수를 사용하여, 각 모델에 대한 valid set에 대한 acc를 확인한다.(score 함수 활용)\n",
        "- 벨리데이션 셋 위에서 성능을 평가한다.\n",
        "- append를 통해 accs list의 값에 계속 해당 성능 값을 추가한다.\n",
        "---"
      ],
      "id": "QvDhaeVWnd9F"
    },
    {
      "cell_type": "code",
      "metadata": {
        "id": "6HoROBjQndsT"
      },
      "source": [
        "# 여기에 답안코드를 작성하세요\n",
        "\n",
        "accs = []\n",
        "\n",
        "for forrest in forests:\n",
        "    accs.append(forrest.score(x_val, y_val))\n",
        "\n",
        "accs[0:5]"
      ],
      "id": "6HoROBjQndsT",
      "execution_count": null,
      "outputs": []
    },
    {
      "cell_type": "markdown",
      "metadata": {
        "id": "roirKZT2ndkM"
      },
      "source": [
        "### **Q17. RandomForest의 Tree 개수에 따른 accuracy를 시각화하시기 바랍니다.**\n",
        "* **\n",
        "- 위의 Q17에서 제작한 리스트 accs를 이용한다.\n",
        "- line plot을 이용하여 각 모델 별 accuracy를 출력한다.\n",
        "- 동일 성능의 gamma가 여러개라면 가장 작은걸 택한다.\n",
        "---"
      ],
      "id": "roirKZT2ndkM"
    },
    {
      "cell_type": "code",
      "metadata": {
        "id": "a3odBpO2ndZ7"
      },
      "source": [
        "# 여기에 답안코드를 작성하세요\n",
        "\n",
        "plt.figure(figsize=(10, 6))\n",
        "plt.plot(range(1,51), accs)\n",
        "plt.xlabel('number of Tree')\n",
        "plt.ylabel('accuracy')\n",
        "plt.title('Accuracy of RandomForest')\n",
        "plt.grid()\n",
        "plt.show()"
      ],
      "id": "a3odBpO2ndZ7",
      "execution_count": null,
      "outputs": []
    },
    {
      "cell_type": "markdown",
      "metadata": {
        "id": "2ivcjdsQMF-v"
      },
      "source": [
        "> **<span style=\"color:red\">다음 문항을 풀기 전에 </span>아래 코드를 실행하세요.**\n",
        ">"
      ],
      "id": "2ivcjdsQMF-v"
    },
    {
      "cell_type": "code",
      "metadata": {
        "id": "IHsrLTSbMIWW"
      },
      "source": [
        "import tensorflow as tf\n",
        "from tensorflow import keras\n",
        "from tensorflow.keras.layers import Input, Dense, BatchNormalization\n",
        "from tensorflow.keras.models import Sequential, Model\n",
        "from tensorflow.keras.callbacks import EarlyStopping"
      ],
      "id": "IHsrLTSbMIWW",
      "execution_count": null,
      "outputs": []
    },
    {
      "cell_type": "markdown",
      "metadata": {
        "id": "vV_3LqXbz8YP"
      },
      "source": [
        "### **Q18. 아래 조건에 맞추어 뉴럴네트워크 모델을 학습시키시기 바랍니다.**\n",
        "* **\n",
        "- Tensorflow framework를 사용한다.\n",
        "- 히든레이어는 아래와 같은 규칙에 맞추어 구성합니다.\n",
        "    * 2개의 fully connected layer를 사용할 것, 노드는 인풋레이어 노드의 2이상으로 한다.\n",
        "- Early stopping을 이용하여, validation loss가 50번 이상 개선되지 않으면 학습을 중단 시키고, 가장 성능이 좋았을 때의 가중치를 복구한다.\n",
        "- 학습과정의 로그(loss, accuracy)를 history에 선언하여 남긴다.\n",
        "- y를 별도로 원핫인코딩 하지 않고 분류모델을 학습시킬 수 있도록 한다.\n",
        "    * 데이터에 없는 클래스까지 고려하여, 아웃풋레이어의 노드를 10개로 지정한다.\n",
        "- epochs는 2000번을 지정한다.\n",
        "---"
      ],
      "id": "vV_3LqXbz8YP"
    },
    {
      "cell_type": "code",
      "metadata": {
        "id": "_Cof7Cb8z8xp"
      },
      "source": [
        "keras.backend.clear_session()\n",
        "\n",
        "model = Sequential()\n",
        "model.add(Dense(32, activation='relu', input_shape=(14,)))\n",
        "model.add(BatchNormalization())\n",
        "model.add(Dense(32, activation='relu' ))\n",
        "model.add(BatchNormalization())\n",
        "model.add(Dense(10, activation='softmax'))\n",
        "\n",
        "model.compile(optimizer='adam',\n",
        "              loss='sparse_categorical_crossentropy',\n",
        "              metrics=['accuracy']) \n",
        "\n",
        "es = EarlyStopping(monitor='val_loss', min_delta=0, patience=50, verbose=2, restore_best_weights=True)\n",
        "history = model.fit(x_train, y_train, epochs=2000, batch_size=32,verbose=2,validation_data=(x_val, y_val),callbacks=[es])"
      ],
      "id": "_Cof7Cb8z8xp",
      "execution_count": null,
      "outputs": []
    },
    {
      "cell_type": "markdown",
      "metadata": {
        "id": "fP6wEUI-0INf"
      },
      "source": [
        "### **Q19. 다음 조건에 맞추어 뉴럴네트워크의 학습 로그를 시각화 하시오.**\n",
        "* **\n",
        "- 필요한 라이브러리가 있다면 따로 불러온다.\n",
        "- epochs에 따른 accuracy의 변화를 시각화 한다.\n",
        "- train accuracy와 validation accuracy를 전부 시각화하고, 구별가능해야 한다.\n",
        "- 그래프의 타이틀은 'Accuracy'로 표시한다.\n",
        "- x축에는 'epochs'라고 표시하고 y축에는 'accuracy'라고 표시한다.\n",
        "---"
      ],
      "id": "fP6wEUI-0INf"
    },
    {
      "cell_type": "code",
      "metadata": {
        "id": "Z21NBfUV0IKL"
      },
      "source": [
        "# 여기에 답안코드를 작성하세요\n",
        "\n",
        "import matplotlib.pyplot as plt\n",
        "\n",
        "plt.plot(history.history['accuracy'])\n",
        "plt.plot(history.history['val_accuracy'])\n",
        "plt.title('Accuracy')\n",
        "plt.xlabel('epochs')\n",
        "plt.ylabel('accuracy')\n",
        "plt.legend(['train_acc', 'val_acc'])\n",
        "plt.show()"
      ],
      "id": "Z21NBfUV0IKL",
      "execution_count": null,
      "outputs": []
    }
  ]
}