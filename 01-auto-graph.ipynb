{
  "nbformat": 4,
  "nbformat_minor": 5,
  "metadata": {
    "colab": {
      "name": "Untitled.ipynb",
      "provenance": [],
      "include_colab_link": true
    },
    "language_info": {
      "name": "python"
    },
    "kernelspec": {
      "name": "python3",
      "display_name": "Python 3"
    }
  },
  "cells": [
    {
      "cell_type": "markdown",
      "metadata": {
        "id": "view-in-github",
        "colab_type": "text"
      },
      "source": [
        "<a href=\"https://colab.research.google.com/github/dantae74/tensorflow/blob/main/01-auto-graph.ipynb\" target=\"_parent\"><img src=\"https://colab.research.google.com/assets/colab-badge.svg\" alt=\"Open In Colab\"/></a>"
      ]
    },
    {
      "cell_type": "markdown",
      "metadata": {
        "id": "av3Tat66H--J"
      },
      "source": [
        "### @tf.function\n",
        "* 자동으로 그래프를 생성(Auto Graph)\n",
        "* 그래프로 변환하여 사용 -> GPU 연산 가능\n",
        "* 파이썬으로 구성된 함수를 텐서플로우의 그래프 형태로 다루고 싶을 때 사용가능\n",
        "* 원본함수가 필요하다면 (tf.fucntion).python_function()"
      ],
      "id": "av3Tat66H--J"
    },
    {
      "cell_type": "code",
      "metadata": {
        "id": "Kwf5z45tHnMj",
        "colab": {
          "base_uri": "https://localhost:8080/"
        },
        "outputId": "d835f8db-7e82-4ee5-8380-43d5d9fcf286"
      },
      "source": [
        "@tf.function\n",
        "def my_function(x):\n",
        "    return x**2 - 10*x + 3\n",
        "\n",
        "print(my_function(2))\n",
        "print(my_function(tf.constant(2)))"
      ],
      "id": "Kwf5z45tHnMj",
      "execution_count": 6,
      "outputs": [
        {
          "output_type": "stream",
          "text": [
            "tf.Tensor(-13, shape=(), dtype=int32)\n",
            "tf.Tensor(-13, shape=(), dtype=int32)\n"
          ],
          "name": "stdout"
        }
      ]
    },
    {
      "cell_type": "code",
      "metadata": {
        "id": "9X16slZGHnlB",
        "colab": {
          "base_uri": "https://localhost:8080/"
        },
        "outputId": "1d206051-d8e2-4122-ac6e-9cdc31b0bbed"
      },
      "source": [
        "def my_function2(x):\n",
        "    return x**2 - 10*x + 3\n",
        "\n",
        "print(my_function2(2))\n",
        "print(my_function2(tf.constant(2)))"
      ],
      "id": "9X16slZGHnlB",
      "execution_count": 7,
      "outputs": [
        {
          "output_type": "stream",
          "text": [
            "-13\n",
            "tf.Tensor(-13, shape=(), dtype=int32)\n"
          ],
          "name": "stdout"
        }
      ]
    },
    {
      "cell_type": "code",
      "metadata": {
        "id": "ntnrb-tuIMsm",
        "colab": {
          "base_uri": "https://localhost:8080/"
        },
        "outputId": "068e4a7b-f589-4ab3-af72-62445407a14a"
      },
      "source": [
        "tf_my_func = tf.function(my_function2)\n",
        "\n",
        "print(tf_my_func)\n",
        "print(tf_my_func(2))"
      ],
      "id": "ntnrb-tuIMsm",
      "execution_count": 8,
      "outputs": [
        {
          "output_type": "stream",
          "text": [
            "<tensorflow.python.eager.def_function.Function object at 0x7f041707f490>\n",
            "tf.Tensor(-13, shape=(), dtype=int32)\n"
          ],
          "name": "stdout"
        }
      ]
    },
    {
      "cell_type": "code",
      "metadata": {
        "id": "7uKVtv9fIM-y",
        "colab": {
          "base_uri": "https://localhost:8080/"
        },
        "outputId": "f871506b-ce5b-44c3-f9a8-9e4193d02d17"
      },
      "source": [
        "tf_my_func.python_function(2)"
      ],
      "id": "7uKVtv9fIM-y",
      "execution_count": 9,
      "outputs": [
        {
          "output_type": "execute_result",
          "data": {
            "text/plain": [
              "-13"
            ]
          },
          "metadata": {
            "tags": []
          },
          "execution_count": 9
        }
      ]
    },
    {
      "cell_type": "code",
      "metadata": {
        "id": "_36Ac6PWIR4P",
        "colab": {
          "base_uri": "https://localhost:8080/"
        },
        "outputId": "27a01ad8-1c36-46f9-d9cb-7e0c5daadeb3"
      },
      "source": [
        "def function_to_get_faster(x,y,b):\n",
        "    x = tf.matmul(x, y)\n",
        "    x = x + b\n",
        "    return x\n",
        "\n",
        "a_function_that_uses_a_graph = tf.function(function_to_get_faster)\n",
        "\n",
        "x1 = tf.constant([[1.0, 2.0]])\n",
        "y1 = tf.constant([[2.0],[3.0]])\n",
        "b1 = tf.constant(4.0)\n",
        "\n",
        "print(a_function_that_uses_a_graph(x1, y1, b1))\n",
        "print(a_function_that_uses_a_graph(x1, y1, b1).numpy())"
      ],
      "id": "_36Ac6PWIR4P",
      "execution_count": 10,
      "outputs": [
        {
          "output_type": "stream",
          "text": [
            "tf.Tensor([[12.]], shape=(1, 1), dtype=float32)\n",
            "[[12.]]\n"
          ],
          "name": "stdout"
        }
      ]
    },
    {
      "cell_type": "code",
      "metadata": {
        "colab": {
          "base_uri": "https://localhost:8080/"
        },
        "id": "YSlwJ6TaJlyt",
        "outputId": "d45d6bb7-a64b-4a2b-fcca-f7e432c6de39"
      },
      "source": [
        "def inner_function(x,y,b):\n",
        "    x = tf.matmul(x, y)\n",
        "    x = x + b\n",
        "    return x\n",
        "\n",
        "@tf.function\n",
        "def outer_function(x):\n",
        "    y = tf.constant([[2.0],[3.0]])\n",
        "    b = tf.constant(4.0)\n",
        "    return inner_function(x,y,b)\n",
        "\n",
        "print(outer_function(tf.constant([[1.0, 2.0]])))\n",
        "print(outer_function(tf.constant([[1.0, 2.0]])).numpy())"
      ],
      "id": "YSlwJ6TaJlyt",
      "execution_count": 11,
      "outputs": [
        {
          "output_type": "stream",
          "text": [
            "tf.Tensor([[12.]], shape=(1, 1), dtype=float32)\n",
            "[[12.]]\n"
          ],
          "name": "stdout"
        }
      ]
    },
    {
      "cell_type": "code",
      "metadata": {
        "id": "IXjun3t4KfDD",
        "outputId": "acaf0d44-fde2-4e74-8f76-db10eeaf3996",
        "colab": {
          "base_uri": "https://localhost:8080/"
        }
      },
      "source": [
        "print(tf.autograph.to_code(my_function.python_function))\n",
        "print(tf.autograph.to_code(tf_my_func.python_function))\n",
        "print(tf.autograph.to_code(outer_function.python_function))"
      ],
      "id": "IXjun3t4KfDD",
      "execution_count": 12,
      "outputs": [
        {
          "output_type": "stream",
          "text": [
            "def tf__my_function(x):\n",
            "    with ag__.FunctionScope('my_function', 'fscope', ag__.ConversionOptions(recursive=True, user_requested=True, optional_features=(), internal_convert_user_code=True)) as fscope:\n",
            "        do_return = False\n",
            "        retval_ = ag__.UndefinedReturnValue()\n",
            "        try:\n",
            "            do_return = True\n",
            "            retval_ = (((ag__.ld(x) ** 2) - (10 * ag__.ld(x))) + 3)\n",
            "        except:\n",
            "            do_return = False\n",
            "            raise\n",
            "        return fscope.ret(retval_, do_return)\n",
            "\n",
            "def tf__my_function2(x):\n",
            "    with ag__.FunctionScope('my_function2', 'fscope', ag__.ConversionOptions(recursive=True, user_requested=True, optional_features=(), internal_convert_user_code=True)) as fscope:\n",
            "        do_return = False\n",
            "        retval_ = ag__.UndefinedReturnValue()\n",
            "        try:\n",
            "            do_return = True\n",
            "            retval_ = (((ag__.ld(x) ** 2) - (10 * ag__.ld(x))) + 3)\n",
            "        except:\n",
            "            do_return = False\n",
            "            raise\n",
            "        return fscope.ret(retval_, do_return)\n",
            "\n",
            "def tf__outer_function(x):\n",
            "    with ag__.FunctionScope('outer_function', 'fscope', ag__.ConversionOptions(recursive=True, user_requested=True, optional_features=(), internal_convert_user_code=True)) as fscope:\n",
            "        do_return = False\n",
            "        retval_ = ag__.UndefinedReturnValue()\n",
            "        y = ag__.converted_call(ag__.ld(tf).constant, ([[2.0], [3.0]],), None, fscope)\n",
            "        b = ag__.converted_call(ag__.ld(tf).constant, (4.0,), None, fscope)\n",
            "        try:\n",
            "            do_return = True\n",
            "            retval_ = ag__.converted_call(ag__.ld(inner_function), (ag__.ld(x), ag__.ld(y), ag__.ld(b)), None, fscope)\n",
            "        except:\n",
            "            do_return = False\n",
            "            raise\n",
            "        return fscope.ret(retval_, do_return)\n",
            "\n"
          ],
          "name": "stdout"
        }
      ]
    },
    {
      "cell_type": "code",
      "metadata": {
        "id": "iTPRAp-EKh79"
      },
      "source": [
        "import timeit\n",
        "\n",
        "class SequentialModel(tf.keras.Model):\n",
        "    def __init__(self, **kwargs):\n",
        "        super(SequentialModel, self).__init__(**kwargs)\n",
        "        self.flatten = tf.keras.layers.Flatten(input_shape=(28,28))\n",
        "        self.dense_1 = tf.keras.layers.Dense(128, activation='relu')\n",
        "        self.dropout = tf.keras.layers.Dropout(0.2)\n",
        "        self.dense_2 = tf.keras.layers.Dense(10)\n",
        "        \n",
        "    def call(self, x):\n",
        "        x = self.flatten(x)\n",
        "        x = self.dense_1(x)\n",
        "        x = self.dropout(x)\n",
        "        x = self.dense_2(x)\n",
        "        return x\n",
        "\n",
        "input_data = tf.random.uniform([60, 28, 28])\n",
        "\n",
        "eager_model = SequentialModel()\n",
        "graph_model = tf.function(eager_model)"
      ],
      "id": "iTPRAp-EKh79",
      "execution_count": 13,
      "outputs": []
    },
    {
      "cell_type": "code",
      "metadata": {
        "id": "YdzwSlmYKmDq",
        "outputId": "7100c962-6210-4dc3-cb3c-dd345b5e8613",
        "colab": {
          "base_uri": "https://localhost:8080/"
        }
      },
      "source": [
        "print('Eagar time:', timeit.timeit(lambda: eager_model(input_data), number=10000))\n",
        "print('graph time:', timeit.timeit(lambda: graph_model(input_data), number=10000))"
      ],
      "id": "YdzwSlmYKmDq",
      "execution_count": 14,
      "outputs": [
        {
          "output_type": "stream",
          "text": [
            "Eagar time: 10.579764436000005\n",
            "graph time: 6.858694731000014\n"
          ],
          "name": "stdout"
        }
      ]
    },
    {
      "cell_type": "code",
      "metadata": {
        "id": "MFlExhLKKo0f"
      },
      "source": [
        ""
      ],
      "id": "MFlExhLKKo0f",
      "execution_count": null,
      "outputs": []
    }
  ]
}