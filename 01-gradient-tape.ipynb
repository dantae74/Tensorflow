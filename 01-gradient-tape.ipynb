{
  "nbformat": 4,
  "nbformat_minor": 5,
  "metadata": {
    "colab": {
      "name": "Untitled.ipynb",
      "provenance": []
    }
  },
  "cells": [
    {
      "cell_type": "markdown",
      "metadata": {
        "id": "av3Tat66H--J"
      },
      "source": [
        "## Gradient Tape (자동미분, Auto Gradient)\n",
        "* tf.GradientTape API를 사용\n",
        "* tf.Variable 같은 일부 입력에 대한 기울기 계산\n",
        "    * 기본적으로 한번만 사용됨\n",
        "* 변수가 포함된 연산만 기록\n",
        "* Record operations for automatic differentiation\n",
        "* 역전파 계산을 위해 순전파 계산을 기록"
      ],
      "id": "av3Tat66H--J"
    },
    {
      "cell_type": "code",
      "metadata": {
        "id": "Kwf5z45tHnMj"
      },
      "source": [
        "import tensorflow as tf\n",
        "import matplotlib.pyplot as plt"
      ],
      "id": "Kwf5z45tHnMj",
      "execution_count": null,
      "outputs": []
    },
    {
      "cell_type": "code",
      "metadata": {
        "id": "9X16slZGHnlB"
      },
      "source": [
        "t1 = tf.Variable([1.,2.,3.])\n",
        "t2 = tf.Variable([4.,5.,6.])\n",
        "\n",
        "with tf.GradientTape() as tape:\n",
        "    t3 = t1 * t2\n",
        "\n",
        "gradients = tape.gradient(t3, [t1, t2]) # t1, t2 로 t3를 편미분, t3를 t1으로 편미분하면 t2, t3를 t2로 편미분 하면 t1 임\n",
        "print(gradients)\n",
        "print(gradients[0])\n",
        "print(gradients[1])"
      ],
      "id": "9X16slZGHnlB",
      "execution_count": null,
      "outputs": []
    },
    {
      "cell_type": "markdown",
      "metadata": {
        "id": "ENUG_ywhIH6F"
      },
      "source": [
        "# Linear Regression"
      ],
      "id": "ENUG_ywhIH6F"
    },
    {
      "cell_type": "code",
      "metadata": {
        "id": "ntnrb-tuIMsm"
      },
      "source": [
        "x_data = tf.random.normal(shape=(1000,), dtype=tf.float32)\n",
        "y_data = 3 * x_data + 1\n",
        "\n",
        "print(x_data.dtype, y_data.dtype)"
      ],
      "id": "ntnrb-tuIMsm",
      "execution_count": null,
      "outputs": []
    },
    {
      "cell_type": "code",
      "metadata": {
        "id": "7uKVtv9fIM-y"
      },
      "source": [
        "w = tf.Variable(-1.)\n",
        "b = tf.Variable(-1.)\n",
        "\n",
        "LR = 0.01\n",
        "EPOCHS = 10\n",
        "\n",
        "w_trace, b_trace = [], []\n",
        "\n",
        "for epoch in range(EPOCHS):\n",
        "    for x, y in zip(x_data, y_data):\n",
        "        with tf.GradientTape() as tape:\n",
        "            prediction = w*x + b\n",
        "            loss = (prediction - y) ** 2\n",
        "        \n",
        "        gradients = tape.gradient(loss, [w, b])\n",
        "        \n",
        "        w_trace.append(w.numpy())\n",
        "        b_trace.append(b.numpy())\n",
        "        \n",
        "        w = tf.Variable(w - LR*gradients[0])\n",
        "        b = tf.Variable(b - LR*gradients[1])"
      ],
      "id": "7uKVtv9fIM-y",
      "execution_count": null,
      "outputs": []
    },
    {
      "cell_type": "code",
      "metadata": {
        "id": "_36Ac6PWIR4P"
      },
      "source": [
        "# print('w_trace', w_trace)\n",
        "# print('b_trace', b_trace)\n",
        "\n",
        "fig, ax = plt.subplots(figsize=(20,20))\n",
        "ax.plot(w_trace, label='weight')\n",
        "ax.plot(b_trace, label='bias')\n",
        "ax.tick_params(labelsize=20)\n",
        "ax.legend(fontsize=30)\n",
        "ax.grid()"
      ],
      "id": "_36Ac6PWIR4P",
      "execution_count": null,
      "outputs": []
    }
  ]
}